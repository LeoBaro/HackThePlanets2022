{
 "cells": [
  {
   "cell_type": "code",
   "execution_count": 21,
   "id": "d731af27",
   "metadata": {},
   "outputs": [],
   "source": [
    "import pickle\n",
    "\n",
    "import geopandas\n",
    "from shapely.geometry import shape\n",
    "\n",
    "import numpy as np\n",
    "import rasterio\n",
    "from pathlib import Path\n",
    "import matplotlib.pyplot as plt\n",
    "%matplotlib notebook"
   ]
  },
  {
   "cell_type": "code",
   "execution_count": 2,
   "id": "d636eb7d",
   "metadata": {},
   "outputs": [
    {
     "name": "stdout",
     "output_type": "stream",
     "text": [
      "Requirement already satisfied: rasterio in /opt/venv/adamapienv/lib/python3.8/site-packages (1.2.10)\n",
      "Requirement already satisfied: affine in /opt/venv/adamapienv/lib/python3.8/site-packages (from rasterio) (2.3.1)\n",
      "Requirement already satisfied: snuggs>=1.4.1 in /opt/venv/adamapienv/lib/python3.8/site-packages (from rasterio) (1.4.7)\n",
      "Requirement already satisfied: click-plugins in /opt/venv/adamapienv/lib/python3.8/site-packages (from rasterio) (1.1.1)\n",
      "Requirement already satisfied: click>=4.0 in /opt/venv/adamapienv/lib/python3.8/site-packages (from rasterio) (8.1.3)\n",
      "Requirement already satisfied: attrs in /opt/venv/adamapienv/lib/python3.8/site-packages (from rasterio) (21.4.0)\n",
      "Requirement already satisfied: setuptools in /opt/venv/adamapienv/lib/python3.8/site-packages (from rasterio) (44.0.0)\n",
      "Requirement already satisfied: cligj>=0.5 in /opt/venv/adamapienv/lib/python3.8/site-packages (from rasterio) (0.7.2)\n",
      "Requirement already satisfied: certifi in /opt/venv/adamapienv/lib/python3.8/site-packages (from rasterio) (2021.10.8)\n",
      "Requirement already satisfied: numpy in /opt/venv/adamapienv/lib/python3.8/site-packages (from rasterio) (1.22.3)\n",
      "Requirement already satisfied: pyparsing>=2.1.6 in /opt/venv/adamapienv/lib/python3.8/site-packages (from snuggs>=1.4.1->rasterio) (3.0.9)\n"
     ]
    }
   ],
   "source": [
    "! pip install rasterio"
   ]
  },
  {
   "cell_type": "markdown",
   "id": "08cc1dec",
   "metadata": {},
   "source": [
    "# Visualize the geometry"
   ]
  },
  {
   "cell_type": "code",
   "execution_count": 3,
   "id": "72d01ba3",
   "metadata": {},
   "outputs": [],
   "source": [
    "with open(\"files_metadata.pickle\", \"rb\") as metadata_file:\n",
    "    products_metadata = pickle.load(metadata_file)        "
   ]
  },
  {
   "cell_type": "code",
   "execution_count": 14,
   "id": "4a8c0b7c",
   "metadata": {},
   "outputs": [
    {
     "data": {
      "text/plain": [
       "{'productId': ['F16_041953_1887_XI_08N120W.tif'],\n",
       " 'geometry': [<shapely.geometry.polygon.Polygon at 0x7f23f86417f0>]}"
      ]
     },
     "execution_count": 14,
     "metadata": {},
     "output_type": "execute_result"
    }
   ],
   "source": [
    "_gd = {'productId':[], 'geometry':[]}\n",
    "for p in products_metadata[0:1]:\n",
    "    _gd['productId'].append(p['productId'])\n",
    "    _gd['geometry'].append(shape(p['geometry']['geometries'][0]))\n",
    "    \n",
    "_gd"
   ]
  },
  {
   "cell_type": "code",
   "execution_count": 15,
   "id": "0bfafbd4",
   "metadata": {},
   "outputs": [
    {
     "data": {
      "image/png": "[encoded data removed]",
      "text/plain": [
       "<Figure size 1728x1152 with 1 Axes>"
      ]
     },
     "metadata": {
      "needs_background": "light"
     },
     "output_type": "display_data"
    }
   ],
   "source": [
    "gdf = geopandas.GeoDataFrame(_gd)\n",
    "\n",
    "gdf.plot(alpha=0.25, edgecolor='red', legend=True, column='productId', \n",
    "         legend_kwds={'loc': 'upper left', 'bbox_to_anchor': (1, 1)}, \n",
    "         figsize=(24,16));"
   ]
  },
  {
   "cell_type": "markdown",
   "id": "8d1d06ae",
   "metadata": {},
   "source": [
    "## Visualize the images"
   ]
  },
  {
   "cell_type": "markdown",
   "id": "5e609fca",
   "metadata": {},
   "source": [
    "### Unzip it"
   ]
  },
  {
   "cell_type": "code",
   "execution_count": 16,
   "id": "b95d4e07",
   "metadata": {},
   "outputs": [],
   "source": [
    "datapath = Path(\"/shared_volume/zipped\")\n",
    "datapath_unzipped = Path(\"/shared_volume/unzipped\")"
   ]
  },
  {
   "cell_type": "code",
   "execution_count": 17,
   "id": "06897968",
   "metadata": {},
   "outputs": [
    {
     "data": {
      "text/plain": [
       "[PosixPath('/shared_volume/zipped/F16_042056_1556_XI_24S049W.cal.map.tif.zip'),\n",
       " PosixPath('/shared_volume/zipped/F16_042082_1494_XN_30S037W.cal.map.tif.zip'),\n",
       " PosixPath('/shared_volume/zipped/F16_042080_1476_XN_32S342W.cal.map.tif.zip'),\n",
       " PosixPath('/shared_volume/zipped/F16_042036_1844_XN_04N225W.tif.zip'),\n",
       " PosixPath('/shared_volume/zipped/F16_042058_1213_XI_58S097W.cal.map.tif.zip'),\n",
       " PosixPath('/shared_volume/zipped/F16_042084_1691_XN_10S095W.cal.map.tif.zip')]"
      ]
     },
     "execution_count": 17,
     "metadata": {},
     "output_type": "execute_result"
    }
   ],
   "source": [
    "from os import listdir\n",
    "from os.path import isfile, join\n",
    "zipped_data_files = [Path(datapath).joinpath(f) for f in listdir(datapath) if isfile(join(datapath, f)) and \".tif.zip\" in f]\n",
    "zipped_data_files[0:6]"
   ]
  },
  {
   "cell_type": "code",
   "execution_count": 18,
   "id": "3f7d594f",
   "metadata": {},
   "outputs": [],
   "source": [
    "import shutil"
   ]
  },
  {
   "cell_type": "code",
   "execution_count": 19,
   "id": "9fde1119",
   "metadata": {},
   "outputs": [],
   "source": [
    "def display_image(zipped_data_file, datapath_unzipped):  \n",
    "    unzipped_datafile = datapath_unzipped.joinpath(zipped_data_file.stem)\n",
    "    if not unzipped_datafile.exists():\n",
    "        print(f\"Unzipping {zipped_data_file}..\")\n",
    "        shutil.unpack_archive(zipped_data_file, datapath_unzipped)\n",
    "        print(\"\")\n",
    "    else:\n",
    "        print(f\"Unzipped file already exists: {unzipped_datafile}\")\n",
    "        \n",
    "    with rasterio.open(unzipped_datafile) as tif:\n",
    "        img = tif.read(1)\n",
    "        img[img<=tif.nodata] = np.nan\n",
    "\n",
    "    plt.subplots(figsize=(24,16))\n",
    "    plt.imshow(img, cmap = 'viridis')\n",
    "    plt.colorbar()            "
   ]
  },
  {
   "cell_type": "code",
   "execution_count": null,
   "id": "eee57187",
   "metadata": {
    "scrolled": true
   },
   "outputs": [
    {
     "name": "stdout",
     "output_type": "stream",
     "text": [
      "Unzipped file already exists: /shared_volume/unzipped/F16_042056_1556_XI_24S049W.cal.map.tif\n"
     ]
    }
   ],
   "source": [
    "display_image(zipped_data_files[0], datapath_unzipped)"
   ]
  },
  {
   "cell_type": "code",
   "execution_count": null,
   "id": "8b77badf",
   "metadata": {},
   "outputs": [],
   "source": []
  }
 ],
 "metadata": {
  "kernelspec": {
   "display_name": "Python 3 (ipykernel)",
   "language": "python",
   "name": "python3"
  },
  "language_info": {
   "codemirror_mode": {
    "name": "ipython",
    "version": 3
   },
   "file_extension": ".py",
   "mimetype": "text/x-python",
   "name": "python",
   "nbconvert_exporter": "python",
   "pygments_lexer": "ipython3",
   "version": "3.8.10"
  }
 },
 "nbformat": 4,
 "nbformat_minor": 5
}
