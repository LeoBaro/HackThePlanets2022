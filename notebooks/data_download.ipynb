{
 "cells": [
  {
   "cell_type": "code",
   "execution_count": 1,
   "id": "a3e085a1",
   "metadata": {},
   "outputs": [],
   "source": [
    "import pickle\n",
    "import pandas as pd\n",
    "import datetime\n",
    "from tqdm.notebook import tqdm\n",
    "import matplotlib.pyplot as plt\n",
    "from pathlib import Path\n",
    "#%matplotlib notebook"
   ]
  },
  {
   "cell_type": "code",
   "execution_count": 2,
   "id": "eb85a2bc",
   "metadata": {},
   "outputs": [],
   "source": [
    "with open(\"files_metadata.pickle\", \"rb\") as metadata_file:\n",
    "    products_metadata = pickle.load(metadata_file)        "
   ]
  },
  {
   "cell_type": "code",
   "execution_count": 3,
   "id": "1a7e88b9",
   "metadata": {},
   "outputs": [
    {
     "data": {
      "text/plain": [
       "dict"
      ]
     },
     "execution_count": 3,
     "metadata": {},
     "output_type": "execute_result"
    }
   ],
   "source": [
    "type(products_metadata[0])"
   ]
  },
  {
   "cell_type": "code",
   "execution_count": 4,
   "id": "c00849b3",
   "metadata": {},
   "outputs": [
    {
     "data": {
      "text/plain": [
       "{'_id': {'$oid': '605e735f918477c2aed31149'},\n",
       " 'datasetId': 'MRO_CTX',\n",
       " 'productDate': '2015-07-09T11:50:36Z',\n",
       " 'productId': 'F16_041953_1887_XI_08N120W.tif',\n",
       " 'geometry': {'geometries': [{'type': 'Polygon',\n",
       "    'coordinates': [[[-120.8384887, 8.2275409],\n",
       "      [-120.3041802, 8.2275409],\n",
       "      [-120.3027604, 8.9986119],\n",
       "      [-120.8381591, 8.9986119],\n",
       "      [-120.8384887, 8.2275409]]]}],\n",
       "  'type': 'GeometryCollection'},\n",
       " 'insertDate': '2021-03-26T23:50:55Z',\n",
       " 'instrument': 'CONTEXT CAMERA',\n",
       " 'instrumentId': 'CTX',\n",
       " 'mission': 'MARS RECONNAISSANCE ORBITER',\n",
       " 'missionId': 'MRO',\n",
       " 'observationMode': 'EDR',\n",
       " 'solarDistance': '',\n",
       " 'solarLongitude': '',\n",
       " 'status': '',\n",
       " 'targetName': 'MARS',\n",
       " 'previewPath': '/CTX/preview/F16_041953_1887_XI_08N120W.png',\n",
       " 'version': 'v0'}"
      ]
     },
     "execution_count": 4,
     "metadata": {},
     "output_type": "execute_result"
    }
   ],
   "source": [
    "products_metadata[0]"
   ]
  },
  {
   "cell_type": "code",
   "execution_count": 5,
   "id": "42043906",
   "metadata": {},
   "outputs": [],
   "source": [
    "products_dates = [ datetime.datetime.fromisoformat(md[\"productDate\"][:-1]+'+00:00') for md in products_metadata]"
   ]
  },
  {
   "cell_type": "code",
   "execution_count": 6,
   "id": "134bd4cb",
   "metadata": {
    "scrolled": false
   },
   "outputs": [
    {
     "data": {
      "image/png": "[encoded data removed]",
      "text/plain": [
       "<Figure size 720x216 with 1 Axes>"
      ]
     },
     "metadata": {
      "needs_background": "light"
     },
     "output_type": "display_data"
    }
   ],
   "source": [
    "plt.figure(figsize=(10, 3))\n",
    "_ = plt.hist(products_dates, bins=100, color=\"orange\", histtype=\"step\")"
   ]
  },
  {
   "cell_type": "code",
   "execution_count": 7,
   "id": "ed7be5c7",
   "metadata": {},
   "outputs": [
    {
     "name": "stdout",
     "output_type": "stream",
     "text": [
      "zipped\r\n"
     ]
    }
   ],
   "source": [
    "! ls /shared_volume"
   ]
  },
  {
   "cell_type": "code",
   "execution_count": 8,
   "id": "125d96fc",
   "metadata": {},
   "outputs": [
    {
     "data": {
      "text/plain": [
       "{'expires_at': '2022-05-16T17:30:07.366Z',\n",
       " 'access_token': 'e322bfaaf3744e729c7854ed22b096d2',\n",
       " 'refresh_token': '9bae538b888d4eb3a95456dfb649bdae',\n",
       " 'expires_in': 3600}"
      ]
     },
     "execution_count": 8,
     "metadata": {},
     "output_type": "execute_result"
    }
   ],
   "source": [
    "from adamapi import Auth\n",
    "a = Auth()\n",
    "a.setKey(\"qCKuUM8PMIx9llcCq8-yD-A1u01TZNN4CHT82Oo4o38\")\n",
    "a.setAdamCore(\"https://explorer-space.adamplatform.eu\")\n",
    "a.authorize()"
   ]
  },
  {
   "cell_type": "code",
   "execution_count": 21,
   "id": "6156313e",
   "metadata": {},
   "outputs": [
    {
     "name": "stdout",
     "output_type": "stream",
     "text": [
      "Requirement already satisfied: tqdm in /opt/venv/adamapienv/lib/python3.8/site-packages (4.64.0)\r\n"
     ]
    }
   ],
   "source": []
  },
  {
   "cell_type": "code",
   "execution_count": 9,
   "id": "28b6b669",
   "metadata": {},
   "outputs": [],
   "source": [
    "from adamapi import GetData\n",
    "data_service=GetData(a)\n",
    "datasetId = \"58592:MRO_CTX\""
   ]
  },
  {
   "cell_type": "code",
   "execution_count": 12,
   "id": "985878b4",
   "metadata": {
    "scrolled": false
   },
   "outputs": [
    {
     "data": {
      "application/vnd.jupyter.widget-view+json": {
       "model_id": "054d4d7d0c314e0780017a81ff584721",
       "version_major": 2,
       "version_minor": 0
      },
      "text/plain": [
       "  0%|          | 0/20 [00:00<?, ?it/s]"
      ]
     },
     "metadata": {},
     "output_type": "display_data"
    }
   ],
   "source": [
    "for product_metadata in tqdm(products_metadata[10:30]):\n",
    "    output_file = Path(f\"/shared_volume/zipped/{product_metadata['productId']}\").with_suffix('.zip')\n",
    "    if not output_file.exists():\n",
    "        data_service.getData(datasetId, productId = product_metadata[\"productId\"], outputFname=output_file.as_posix())"
   ]
  },
  {
   "cell_type": "code",
   "execution_count": null,
   "id": "af58c7fa",
   "metadata": {},
   "outputs": [],
   "source": []
  }
 ],
 "metadata": {
  "kernelspec": {
   "display_name": "Python 3 (ipykernel)",
   "language": "python",
   "name": "python3"
  },
  "language_info": {
   "codemirror_mode": {
    "name": "ipython",
    "version": 3
   },
   "file_extension": ".py",
   "mimetype": "text/x-python",
   "name": "python",
   "nbconvert_exporter": "python",
   "pygments_lexer": "ipython3",
   "version": "3.8.10"
  }
 },
 "nbformat": 4,
 "nbformat_minor": 5
}
