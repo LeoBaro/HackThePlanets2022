{
 "cells": [
  {
   "cell_type": "markdown",
   "id": "e3ae4ac9",
   "metadata": {},
   "source": [
    "# Apply PCA\n",
    "\n",
    "This notebook exploits scikit learning tools."
   ]
  },
  {
   "cell_type": "code",
   "execution_count": null,
   "id": "4be300f4",
   "metadata": {},
   "outputs": [],
   "source": [
    "import numpy as np\n",
    "import pandas as pd\n",
    "import matplotlib.pyplot as plt\n",
    "import matplotlib.image as mpimg\n",
    "from sklearn.decomposition import PCA\n",
    "from os.path import join"
   ]
  },
  {
   "cell_type": "markdown",
   "id": "9dcd0a80",
   "metadata": {},
   "source": [
    "Let's define some global parameters for the analysis.\n",
    "- <code>n_components</code> is the dimension of the PCA reduction\n",
    "- <code>n_clusters</code> is the number of clusters for the k-means"
   ]
  },
  {
   "cell_type": "code",
   "execution_count": null,
   "id": "ac4bfd39",
   "metadata": {},
   "outputs": [],
   "source": [
    "n_components = 3\n",
    "n_clusters = 10"
   ]
  },
  {
   "cell_type": "markdown",
   "id": "d121c40d",
   "metadata": {},
   "source": [
    "Load embeddings data. Although the file extension is JSON the format is actually not. Neither numpy nor pandas manage to load the data, hence we simply read the text file and convert to numpy array its values."
   ]
  },
  {
   "cell_type": "code",
   "execution_count": null,
   "id": "bbf7266e",
   "metadata": {},
   "outputs": [],
   "source": [
    "modelpath = '../data/latent_space/SimCLR' \n",
    "filename = join(modelpath, 'embeddings.json')\n",
    "with open(filename, 'r') as f:\n",
    "    text = f.read()\n",
    "\n",
    "embeddings = np.array(eval(text))\n",
    "embeddings"
   ]
  },
  {
   "cell_type": "markdown",
   "id": "c6955ebf",
   "metadata": {},
   "source": [
    "Check data shape."
   ]
  },
  {
   "cell_type": "code",
   "execution_count": null,
   "id": "e6373c5f",
   "metadata": {},
   "outputs": [],
   "source": [
    "np.shape(embeddings)"
   ]
  },
  {
   "cell_type": "markdown",
   "id": "be14ade0",
   "metadata": {},
   "source": [
    "Instantiate PCA. \n",
    "\n",
    "If <code>n_components</code> parameter is not set then it will keep all of them by default. If <code>n_components == 'mle'</code> and <code>svd_solver == 'full'</code>, Minka’s MLE is used to guess the dimension. Use of <code>n_components == 'mle'</code> will interpret <code>svd_solver == 'auto'</code> as <code>svd_solver == 'full'</code>. Requires <code>n_samples >= n_features</code>. \n",
    "\n",
    "We want 3D reduction hence we use <code>n_components=3</code>."
   ]
  },
  {
   "cell_type": "code",
   "execution_count": null,
   "id": "6497ffe6",
   "metadata": {},
   "outputs": [],
   "source": [
    "pca = PCA(n_components=n_components)"
   ]
  },
  {
   "cell_type": "markdown",
   "id": "9a8a5228",
   "metadata": {},
   "source": [
    "Fit the model with data."
   ]
  },
  {
   "cell_type": "code",
   "execution_count": null,
   "id": "f04a19d0",
   "metadata": {},
   "outputs": [],
   "source": [
    "pca.fit(embeddings)"
   ]
  },
  {
   "cell_type": "markdown",
   "id": "e200036f",
   "metadata": {},
   "source": [
    "### Explore the PCA results\n",
    "\n",
    "Check the amount of variance explained by each of the selected components. The variance estimation uses <code>n_samples - 1</code> degrees of freedom. It is equal to <code>n_components</code> largest eigenvalues of the covariance matrix."
   ]
  },
  {
   "cell_type": "code",
   "execution_count": null,
   "id": "4abe5c80",
   "metadata": {},
   "outputs": [],
   "source": [
    "pca.explained_variance_"
   ]
  },
  {
   "cell_type": "markdown",
   "id": "2060f7bf",
   "metadata": {},
   "source": [
    "Check principal axes in feature space, representing the directions of maximum variance in the data. Equivalently, the right singular vectors of the centered input data, parallel to its eigenvectors. The components are sorted by <code>explained_variance_</code>."
   ]
  },
  {
   "cell_type": "code",
   "execution_count": null,
   "id": "a54683e3",
   "metadata": {
    "scrolled": true
   },
   "outputs": [],
   "source": [
    "pca.components_"
   ]
  },
  {
   "cell_type": "markdown",
   "id": "6237da7b",
   "metadata": {},
   "source": [
    "Check number of samples and features."
   ]
  },
  {
   "cell_type": "code",
   "execution_count": null,
   "id": "55d78c8c",
   "metadata": {},
   "outputs": [],
   "source": [
    "pca.n_samples_, pca.n_features_"
   ]
  },
  {
   "cell_type": "markdown",
   "id": "1fad4d4a",
   "metadata": {},
   "source": [
    "Check singular values corresponding to each of the selected components. The singular values are equal to the 2-norms of the <code>n_components</code> variables in the lower-dimensional space."
   ]
  },
  {
   "cell_type": "code",
   "execution_count": null,
   "id": "1b76eb58",
   "metadata": {},
   "outputs": [],
   "source": [
    "pca.singular_values_"
   ]
  },
  {
   "cell_type": "markdown",
   "id": "61b5dbe5",
   "metadata": {},
   "source": [
    "Check percentage of variance explained by each of the selected components."
   ]
  },
  {
   "cell_type": "code",
   "execution_count": null,
   "id": "a901f2f8",
   "metadata": {},
   "outputs": [],
   "source": [
    "pca.explained_variance_ratio_"
   ]
  },
  {
   "cell_type": "markdown",
   "id": "1c272ac7",
   "metadata": {},
   "source": [
    "Print labels."
   ]
  },
  {
   "cell_type": "code",
   "execution_count": null,
   "id": "3314d813",
   "metadata": {},
   "outputs": [],
   "source": [
    "labels = pca.get_feature_names_out(input_features=None)\n",
    "labels"
   ]
  },
  {
   "cell_type": "markdown",
   "id": "2d076740",
   "metadata": {},
   "source": [
    "Fit the model with data and apply the dimensionality reduction."
   ]
  },
  {
   "cell_type": "code",
   "execution_count": null,
   "id": "cee33cdf",
   "metadata": {},
   "outputs": [],
   "source": [
    "reduced = pca.fit_transform(embeddings)\n",
    "np.shape(reduced)"
   ]
  },
  {
   "cell_type": "code",
   "execution_count": null,
   "id": "e2942c2d",
   "metadata": {},
   "outputs": [],
   "source": [
    "%matplotlib notebook\n",
    "\n",
    "fig = plt.figure(1, figsize=(8, 6))\n",
    "ax = fig.add_subplot(111, projection=\"3d\")\n",
    "\n",
    "ax.scatter(\n",
    "    reduced[:, 0],\n",
    "    reduced[:, 1],\n",
    "    reduced[:, 2],\n",
    "    c='b',\n",
    "    cmap=plt.cm.Set1,\n",
    "    edgecolor=\"k\",\n",
    "    s=40,\n",
    ")\n",
    "\n",
    "ax.set_xlabel(\"x\")\n",
    "ax.set_ylabel(\"y\")\n",
    "ax.set_zlabel(\"z\")"
   ]
  },
  {
   "cell_type": "markdown",
   "id": "24b50cfb",
   "metadata": {},
   "source": []
  },
  {
   "cell_type": "markdown",
   "id": "02745702",
   "metadata": {},
   "source": [
    "# Apply k-means\n",
    "\n",
    "Apply k-means clustering algorithm on PCA reduced data."
   ]
  },
  {
   "cell_type": "code",
   "execution_count": null,
   "id": "75e375e7",
   "metadata": {},
   "outputs": [],
   "source": [
    "from sklearn.cluster import KMeans\n",
    "\n",
    "kmeans = KMeans(n_clusters=n_clusters, random_state=0).fit(reduced)"
   ]
  },
  {
   "cell_type": "markdown",
   "id": "b9602083",
   "metadata": {},
   "source": [
    "Extract labels."
   ]
  },
  {
   "cell_type": "code",
   "execution_count": null,
   "id": "e0acd04b",
   "metadata": {},
   "outputs": [],
   "source": [
    "labels = kmeans.labels_\n",
    "labels"
   ]
  },
  {
   "cell_type": "markdown",
   "id": "26ff6f5b",
   "metadata": {},
   "source": [
    "Predict cluster association."
   ]
  },
  {
   "cell_type": "code",
   "execution_count": null,
   "id": "c6b4fe4b",
   "metadata": {
    "scrolled": true
   },
   "outputs": [],
   "source": [
    "predicted = kmeans.predict(reduced)\n",
    "predicted"
   ]
  },
  {
   "cell_type": "markdown",
   "id": "96359e44",
   "metadata": {},
   "source": [
    "Compute cluster centers."
   ]
  },
  {
   "cell_type": "code",
   "execution_count": null,
   "id": "c4a9f48b",
   "metadata": {
    "scrolled": true
   },
   "outputs": [],
   "source": [
    "centers = kmeans.cluster_centers_\n",
    "centers"
   ]
  },
  {
   "cell_type": "markdown",
   "id": "bd873ac3",
   "metadata": {},
   "source": [
    "Create associated color array."
   ]
  },
  {
   "cell_type": "code",
   "execution_count": null,
   "id": "cb8e3973",
   "metadata": {},
   "outputs": [],
   "source": [
    "colors = np.arange(0, n_clusters, 1)\n",
    "colors"
   ]
  },
  {
   "cell_type": "markdown",
   "id": "4b93c466",
   "metadata": {},
   "source": [
    "Plot PCA reduced data and cluster centers, using cluster association color-coding."
   ]
  },
  {
   "cell_type": "code",
   "execution_count": null,
   "id": "404b6c39",
   "metadata": {},
   "outputs": [],
   "source": [
    "fig = plt.figure(1, figsize=(8, 6))\n",
    "ax = fig.add_subplot(111, projection=\"3d\")\n",
    "\n",
    "ax.scatter(\n",
    "    reduced[:, 0],\n",
    "    reduced[:, 1],\n",
    "    reduced[:, 2],\n",
    "    c=predicted.astype(float),\n",
    "    cmap=plt.cm.Set1,\n",
    "    edgecolor=\"k\",\n",
    "    s=40,\n",
    ")\n",
    "\n",
    "ax.scatter(\n",
    "    centers[:, 0],\n",
    "    centers[:, 1],\n",
    "    centers[:, 2],\n",
    "    marker='*',\n",
    "    c=colors,\n",
    "    cmap=plt.cm.Set1,\n",
    "    edgecolor=\"k\",\n",
    "    s=200,\n",
    ")\n",
    "\n",
    "ax.set_xlabel(\"x\")\n",
    "ax.set_ylabel(\"y\")\n",
    "ax.set_zlabel(\"z\")\n",
    "\n",
    "plt.show()"
   ]
  },
  {
   "cell_type": "markdown",
   "id": "bed74e05",
   "metadata": {},
   "source": [
    "## Visualise images from each cluster\n",
    "\n",
    "Let's display a few images associated with each cluster in order to understand which features were learned by the model, and label the clusters with human-readable naming. \n",
    "\n",
    "**NdA:** pandas complains about mismatching colum lenghts due to \"index\" and \"data\" being empty. I have removed manually these columns from the file."
   ]
  },
  {
   "cell_type": "code",
   "execution_count": null,
   "id": "25a40d8a",
   "metadata": {},
   "outputs": [],
   "source": [
    "filename = '../data/latent_space/SimCLR/labels.json'\n",
    "\n",
    "imgname = pd.read_json(filename)\n",
    "imgname.rename(columns={'columns': 'image'}, inplace=True)\n",
    "imgname.head()"
   ]
  },
  {
   "cell_type": "markdown",
   "id": "c9e32996",
   "metadata": {},
   "source": [
    "Assuming that the embeddings and labels files are ordinately written, meaning that each element index correspond between the two files, we can visualise a sample of images associated with each cluster. First let's convert the predicted array into a pandas DF."
   ]
  },
  {
   "cell_type": "code",
   "execution_count": null,
   "id": "3b557f72",
   "metadata": {},
   "outputs": [],
   "source": [
    "clustered = pd.DataFrame(predicted, columns=['cluster'])\n",
    "clustered.head()"
   ]
  },
  {
   "cell_type": "markdown",
   "id": "52f7f00b",
   "metadata": {},
   "source": [
    "Now we can join row-wise the two database, cluster association and image name."
   ]
  },
  {
   "cell_type": "code",
   "execution_count": null,
   "id": "8a93f64a",
   "metadata": {},
   "outputs": [],
   "source": [
    "associations = pd.concat([clustered, imgname], axis=1)\n",
    "associations.head()"
   ]
  },
  {
   "cell_type": "markdown",
   "id": "a94ab657",
   "metadata": {},
   "source": [
    "Now we can display the first **ground truth** images in each cluster."
   ]
  },
  {
   "cell_type": "code",
   "execution_count": null,
   "id": "d94cab4a",
   "metadata": {},
   "outputs": [],
   "source": [
    "fig, axes = plt.subplots(ncols=5, nrows=n_clusters, figsize=(20, 4*n_clusters))\n",
    "\n",
    "for c in colors:\n",
    "    indexes = associations[associations['cluster']==c].head().index\n",
    "    axes[c][0].set_ylabel(f'cluster #{c}')\n",
    "    for i, idx in enumerate(indexes):\n",
    "        png = join(modelpath, 'images', associations[associations['cluster']==c]['image'][idx])\n",
    "        img = mpimg.imread(png)\n",
    "        axes[c][i].imshow(img)\n",
    "        axes[colors[-1]][i].set_xlabel(f'ground truth image #{i}')\n",
    "    \n",
    "plt.show()"
   ]
  },
  {
   "cell_type": "markdown",
   "id": "94502355",
   "metadata": {},
   "source": [
    "And now we can do the same for the generated features map."
   ]
  },
  {
   "cell_type": "code",
   "execution_count": null,
   "id": "8410e7ea",
   "metadata": {},
   "outputs": [],
   "source": [
    "fig, axes = plt.subplots(ncols=5, nrows=n_clusters, figsize=(20, 4*n_clusters))\n",
    "\n",
    "for c in colors:\n",
    "    indexes = associations[associations['cluster']==c].head().index\n",
    "    axes[c][0].set_ylabel(f'cluster #{c}')\n",
    "    for i, idx in enumerate(indexes):\n",
    "        png = join(modelpath, 'generated', associations[associations['cluster']==c]['image'][idx])\n",
    "        img = mpimg.imread(png)\n",
    "        axes[c][i].imshow(img)\n",
    "        axes[colors[-1]][i].set_xlabel(f'generated feature map #{i}')\n",
    "    \n",
    "plt.show()"
   ]
  }
 ],
 "metadata": {
  "kernelspec": {
   "display_name": "Python 3.9.13 ('hacktf')",
   "language": "python",
   "name": "python3"
  },
  "language_info": {
   "codemirror_mode": {
    "name": "ipython",
    "version": 3
   },
   "file_extension": ".py",
   "mimetype": "text/x-python",
   "name": "python",
   "nbconvert_exporter": "python",
   "pygments_lexer": "ipython3",
   "version": "3.9.13"
  },
  "vscode": {
   "interpreter": {
    "hash": "53c38998b5a8ec1aa1c1c6ea6319624625530b140ce541be9ef77e4570132266"
   }
  }
 },
 "nbformat": 4,
 "nbformat_minor": 5
}
