{
 "cells": [
  {
   "cell_type": "markdown",
   "id": "b877baeb",
   "metadata": {},
   "source": [
    "## Explore dataset"
   ]
  },
  {
   "cell_type": "code",
   "execution_count": null,
   "id": "9d2a7b5f",
   "metadata": {},
   "outputs": [],
   "source": [
    "import os"
   ]
  },
  {
   "cell_type": "markdown",
   "id": "00c62523",
   "metadata": {},
   "source": [
    "Load the metadata file into a pandas DataFrame."
   ]
  },
  {
   "cell_type": "code",
   "execution_count": null,
   "id": "20f0a8de",
   "metadata": {
    "scrolled": true
   },
   "outputs": [],
   "source": [
    "import numpy as np\n",
    "import pandas as pd\n",
    "\n",
    "products_metadata = pd.read_pickle('/shared_dir/notebooks/files_metadata.pickle')\n",
    "products_metadata[0]"
   ]
  },
  {
   "cell_type": "markdown",
   "id": "fdf17801",
   "metadata": {},
   "source": [
    "From metadata extract all regions patches and store in longitude/latitude dictionary."
   ]
  },
  {
   "cell_type": "code",
   "execution_count": null,
   "id": "cb88e8a0",
   "metadata": {},
   "outputs": [],
   "source": [
    "def compute_aprox_center(coords):\n",
    "    ys = sorted(coords[:,1])\n",
    "    xs = sorted(coords[:,0])\n",
    "    center_approx = ((xs[3]+xs[1])/2,(ys[3]+ys[1])/2)\n",
    "    return center_approx"
   ]
  },
  {
   "cell_type": "code",
   "execution_count": null,
   "id": "14d7cdb8",
   "metadata": {},
   "outputs": [],
   "source": [
    "products_id = [md[\"productId\"] for md in products_metadata]\n",
    "products_geom = [md[\"geometry\"][\"geometries\"][0] for md in products_metadata]\n",
    "products_geom_coordinates = [md[\"coordinates\"][0] for md in products_geom]\n",
    "products_geom_centers = [compute_aprox_center(np.array(md[\"coordinates\"][0][1:])) for md in products_geom ]\n",
    "\n",
    "coordinates = {\"lon\": [], \"lat\": []}\n",
    "for el in products_geom_coordinates:\n",
    "    for item in el:\n",
    "        coordinates[\"lon\"].append(item[0])\n",
    "        coordinates[\"lat\"].append(item[1])"
   ]
  },
  {
   "cell_type": "markdown",
   "id": "a565601e",
   "metadata": {},
   "source": [
    "Load geojson regions that we know contains areas with high crater density and overlay the dataset images patches. Use GeoPandas with inbuilt projection."
   ]
  },
  {
   "cell_type": "code",
   "execution_count": null,
   "id": "b781bf92",
   "metadata": {},
   "outputs": [],
   "source": [
    "! ls /shared_dir"
   ]
  },
  {
   "cell_type": "code",
   "execution_count": null,
   "id": "91779f9a",
   "metadata": {},
   "outputs": [],
   "source": [
    "import geopandas as gpd\n",
    "from os import listdir\n",
    "from os.path import join\n",
    "%matplotlib notebook\n",
    "geo_regions = listdir('/shared_dir/data/geometries/')\n",
    "\n",
    "for geo in geo_regions[0:1]:\n",
    "    df = gpd.read_file(join('/shared_dir/data/geometries/', geo))\n",
    "    print(df.columns)\n",
    "    print(df[\"geometry\"])"
   ]
  },
  {
   "cell_type": "code",
   "execution_count": null,
   "id": "fa3d05fd",
   "metadata": {
    "scrolled": false
   },
   "outputs": [],
   "source": [
    "%matplotlib inline\n",
    "\n",
    "fig = plt.figure(figsize=(10, 5))\n",
    "\n",
    "ax = plt.subplot()\n",
    "ax.grid(True)\n",
    "\n",
    "ax.set_title(\"2D projection\")\n",
    "ax.set_xlabel(\"Longitude\")\n",
    "ax.set_ylabel(\"Latitude\")\n",
    "\n",
    "ax.set_ylim([10, 30])\n",
    "ax.set_xlim([65, 80])\n",
    "\n",
    "# blue\n",
    "for geo in geo_regions:\n",
    "    df = gpd.read_file(join('/shared_dir/data/geometries/', geo))\n",
    "    df.boundary.plot(ax=ax, facecolor=None, linewidth=1)\n",
    "        \n",
    "# purple\n",
    "for el in products_geom_coordinates:\n",
    "    ax.add_patch(patches.Polygon(el, closed=True, facecolor=None, edgecolor=\"orange\", fill=False, alpha=0.7))\n",
    "\n",
    "for cent in products_geom_centers:\n",
    "    ax.add_patch(patches.Circle(cent, 0.05, color=\"red\"))\n",
    "    \n",
    "fig.savefig(\"intersections.png\", dpi=300)"
   ]
  },
  {
   "cell_type": "markdown",
   "id": "7ca15dd1",
   "metadata": {},
   "source": [
    "Create GeoDataFrames from preselected geometries containing craters and dataset geometries. This should help filtering the dataset via intersection or overlap in order to filter out areas with small craters density."
   ]
  },
  {
   "cell_type": "code",
   "execution_count": null,
   "id": "efec6418",
   "metadata": {},
   "outputs": [],
   "source": [
    "from shapely.geometry import Polygon\n",
    "\n",
    "p1_list, p1_id = [], []\n",
    "for geo in geo_regions:\n",
    "    df = gpd.read_file(join('/shared_dir/data/geometries/', geo))\n",
    "    p1_list.append([item for item in df.geometry][0])\n",
    "    p1_id.append(df.name[0])\n",
    "    \n",
    "p1 = gpd.GeoSeries(p1_list, crs=\"EPSG:4326\")\n",
    "rois = gpd.GeoDataFrame({'geometry': p1, 'id': p1_id})\n",
    "\n",
    "p2_list = []\n",
    "for el in products_geom_coordinates:\n",
    "    p2_list.append([Polygon([(item[0], item[1]) for item in el])][0])\n",
    "    \n",
    "p2 = gpd.GeoSeries(p2_list, crs=\"EPSG:4326\")\n",
    "imgs = gpd.GeoDataFrame({'geometry': p2, 'id': products_id})\n",
    "\n",
    "rois.head(), imgs.head()"
   ]
  },
  {
   "cell_type": "markdown",
   "id": "da0f2667",
   "metadata": {},
   "source": [
    "Intersection allows to define the areas of geometry which are contained by both sets. The issue is that it works row by row, one geometry against the other. Given that we have 20 region of interest against 905 images, the intersection ends up empy. We should find a solution that performs the intersection in each permutation of the two dataframes."
   ]
  },
  {
   "cell_type": "code",
   "execution_count": null,
   "id": "9d2b5b29",
   "metadata": {},
   "outputs": [],
   "source": [
    "intersected = rois.intersection(imgs, align=True)     \n",
    "intersected[~intersected.is_empty][~intersected.isna()]"
   ]
  },
  {
   "cell_type": "markdown",
   "id": "0d9499fb",
   "metadata": {},
   "source": [
    "The same as for the intersection can be said about the <code>contains</code> method."
   ]
  },
  {
   "cell_type": "code",
   "execution_count": null,
   "id": "6e569c78",
   "metadata": {},
   "outputs": [],
   "source": [
    "contained = rois.contains(imgs, align=True)     \n",
    "contained[~contained == False]"
   ]
  },
  {
   "cell_type": "markdown",
   "id": "0e06734d",
   "metadata": {},
   "source": [
    "Let's try to iterate the intersection geometry-wise and save the intersection in a new GeoDataFrame with corresponding geometry IDs and centers."
   ]
  },
  {
   "cell_type": "code",
   "execution_count": null,
   "id": "2b48997a",
   "metadata": {
    "scrolled": true
   },
   "outputs": [],
   "source": [
    "intersected_list, intersected_ids = [], []\n",
    "for geo in geo_regions:\n",
    "    df = gpd.read_file(join('/shared_dir/data/geometries/', geo))\n",
    "    roi = gpd.GeoSeries([item for item in df.geometry][0], crs=\"EPSG:4326\")\n",
    "\n",
    "    for idx, el in enumerate(products_geom_coordinates):\n",
    "        img = gpd.GeoSeries([Polygon([(item[0], item[1]) for item in el])][0], crs=\"EPSG:4326\")\n",
    "\n",
    "        intersected = roi.intersection(img)\n",
    "        if not intersected.is_empty.any():\n",
    "            intersected_list.append(intersected[0])\n",
    "            intersected_ids.append(products_id[idx])\n",
    "\n",
    "intersected_series = gpd.GeoSeries(intersected_list, crs=\"EPSG:4326\")\n",
    "intersected_df = gpd.GeoDataFrame({'geometry': intersected_series, \n",
    "                                   'id': intersected_ids,\n",
    "                                   'center': intersected_series.centroid,\n",
    "                                   'area': intersected_series.area,\n",
    "                                   'length': intersected_series.length,\n",
    "                                   'sqeql': np.sqrt(intersected_series.area)\n",
    "                                  })\n",
    "            \n",
    "intersected_df.head()"
   ]
  },
  {
   "cell_type": "markdown",
   "id": "68eb4afd",
   "metadata": {},
   "source": [
    "Plot the intersections between geometries and dataset."
   ]
  },
  {
   "cell_type": "code",
   "execution_count": null,
   "id": "555a89ce",
   "metadata": {},
   "outputs": [],
   "source": [
    "fig = plt.figure(figsize=(10, 5))\n",
    "ax = plt.subplot()\n",
    "ax.grid(True)\n",
    "\n",
    "ax.set_title(\"2D projection\")\n",
    "ax.set_xlabel(\"Longitude\")\n",
    "ax.set_ylabel(\"Latitude\")\n",
    "ax.set_ylim([-90, 90])\n",
    "ax.set_xlim([-180, 180])\n",
    "\n",
    "# blue\n",
    "for geo in geo_regions:\n",
    "    df = gpd.read_file(join('/shared_dir/data/geometries/', geo))\n",
    "    df.boundary.plot(ax=ax, fc=None)\n",
    "        \n",
    "# purple\n",
    "intersected_df.boundary.plot(ax=ax, fc=None, ec='g', lw=0.2)"
   ]
  },
  {
   "cell_type": "markdown",
   "id": "e1058c24",
   "metadata": {},
   "source": [
    "Length of intersected dataset:"
   ]
  },
  {
   "cell_type": "code",
   "execution_count": null,
   "id": "1e9801a3",
   "metadata": {},
   "outputs": [],
   "source": [
    "len(intersected_df)"
   ]
  },
  {
   "cell_type": "markdown",
   "id": "102ca641",
   "metadata": {},
   "source": [
    "Find average square equivalent length for the intersected dataset."
   ]
  },
  {
   "cell_type": "code",
   "execution_count": null,
   "id": "8a00306a",
   "metadata": {},
   "outputs": [],
   "source": [
    "intersected_df['sqeql'].mean()"
   ]
  },
  {
   "cell_type": "markdown",
   "id": "be15690d",
   "metadata": {},
   "source": [
    "Now let's order the geometries in the GeoDataFrame by their global location. We do so by computing the x- and y-coordinates of the centroids of each geometry. To do so we need to reduce from 2d to 1d, thus we average the x- and y-coordinates and then sort the geometries by this averaged value."
   ]
  },
  {
   "cell_type": "code",
   "execution_count": null,
   "id": "f8f76de3",
   "metadata": {},
   "outputs": [],
   "source": [
    "sorted_intersected_df = (intersected_df\n",
    "                         .assign(x=lambda df: df['center'].x)\n",
    "                         .assign(y=lambda df: df['center'].y)\n",
    "                         .assign(aval=lambda df: df[['x', 'y']].mean(axis=1))\n",
    "                         .sort_values(by=['aval']))\n",
    "\n",
    "len(sorted_intersected_df)"
   ]
  },
  {
   "cell_type": "code",
   "execution_count": null,
   "id": "4a4347e7",
   "metadata": {},
   "outputs": [],
   "source": [
    "sorted_intersected_df.head()"
   ]
  },
  {
   "cell_type": "markdown",
   "id": "b22117e0",
   "metadata": {},
   "source": [
    "Indexes are now not ordered as well as not contiguous. Let's reindex all the surviving rows."
   ]
  },
  {
   "cell_type": "code",
   "execution_count": null,
   "id": "43a1abfc",
   "metadata": {},
   "outputs": [],
   "source": [
    "sorted_intersected_df = sorted_intersected_df.reset_index(drop=True)\n",
    "sorted_intersected_df.head()"
   ]
  },
  {
   "cell_type": "markdown",
   "id": "d0d11fe1",
   "metadata": {},
   "source": [
    "In order to avoid excessive overlap in the dataset, we filter out images that are consider not distinct. In this algorithm, we define two distinct images as having the centroid of their geometry that has vectorial distance greater than half of the mean square equivalent length of the dataset itself. If two images are found to be not distinct we drop keep the first (lower located) image and compare to the following. This way, having an ordered dataset, we can maximise the number of distinct images comprised in a cluster."
   ]
  },
  {
   "cell_type": "code",
   "execution_count": null,
   "id": "bbc83c2b",
   "metadata": {},
   "outputs": [],
   "source": [
    "meanl = intersected_df['sqeql'].mean()\n",
    "filtered_intersected_df = sorted_intersected_df\n",
    "\n",
    "idx = 0\n",
    "while idx < len(filtered_intersected_df)-1:\n",
    "    current = filtered_intersected_df.loc[idx,:]['geometry']\n",
    "    nextone = filtered_intersected_df.loc[idx+1,:]['geometry']\n",
    "    centers_distance = current.distance(nextone)\n",
    "    if centers_distance >= meanl/4:\n",
    "        idx += 1        \n",
    "    else:\n",
    "        filtered_intersected_df = filtered_intersected_df.drop(idx+1).reset_index(drop=True)\n",
    "        \n",
    "len(sorted_intersected_df), len(filtered_intersected_df)       "
   ]
  },
  {
   "cell_type": "code",
   "execution_count": null,
   "id": "787f2091",
   "metadata": {},
   "outputs": [],
   "source": [
    "filtered_intersected_df['id']"
   ]
  }
 ],
 "metadata": {
  "kernelspec": {
   "display_name": "Python 3 (ipykernel)",
   "language": "python",
   "name": "python3"
  },
  "language_info": {
   "codemirror_mode": {
    "name": "ipython",
    "version": 3
   },
   "file_extension": ".py",
   "mimetype": "text/x-python",
   "name": "python",
   "nbconvert_exporter": "python",
   "pygments_lexer": "ipython3",
   "version": "3.9.13"
  }
 },
 "nbformat": 4,
 "nbformat_minor": 5
}
