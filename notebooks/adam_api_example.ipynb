{
 "cells": [
  {
   "cell_type": "markdown",
   "id": "0c73ed1c",
   "metadata": {},
   "source": [
    "# Adam API usage example\n",
    "https://docs.neanias.eu/projects/c2-dataexploration/en/latest/\n"
   ]
  },
  {
   "cell_type": "code",
   "execution_count": 1,
   "id": "baaa4eaf",
   "metadata": {},
   "outputs": [],
   "source": [
    "import os\n",
    "import pickle\n",
    "import shutil\n",
    "from tqdm import tqdm\n",
    "import multiprocessing\n",
    "from pathlib import Path\n",
    "from functools import partial\n",
    "import matplotlib.pyplot as plt\n",
    "from datetime import date, datetime\n",
    "from dateutil.relativedelta import relativedelta\n",
    "\n",
    "import adamapi\n",
    "from adamapi import Auth\n",
    "from adamapi import Search\n",
    "from adamapi import GetData\n",
    "from adamapi import Datasets"
   ]
  },
  {
   "cell_type": "code",
   "execution_count": 15,
   "id": "f6fef5fe",
   "metadata": {},
   "outputs": [
    {
     "name": "stdout",
     "output_type": "stream",
     "text": [
      "adamapi                      2.0.9              \r\n"
     ]
    }
   ],
   "source": [
    "! pip list |  grep adamapi"
   ]
  },
  {
   "cell_type": "code",
   "execution_count": 16,
   "id": "ee804d36",
   "metadata": {},
   "outputs": [],
   "source": [
    "os.environ[\"ADAM_API_KEY\"]=\"qCKuUM8PMIx9llcCq8-yD-A1u01TZNN4CHT82Oo4o38\""
   ]
  },
  {
   "cell_type": "code",
   "execution_count": 17,
   "id": "2cf5f250",
   "metadata": {
    "scrolled": false
   },
   "outputs": [
    {
     "data": {
      "text/plain": [
       "{'expires_at': '2022-05-20T14:31:16.538Z',\n",
       " 'access_token': '7ba3103914e6416eaf8419bdc2b83262',\n",
       " 'refresh_token': '305482c35b70411981460fa0a2c7add4',\n",
       " 'expires_in': 3600}"
      ]
     },
     "execution_count": 17,
     "metadata": {},
     "output_type": "execute_result"
    }
   ],
   "source": [
    "a = Auth()\n",
    "a.setKey(os.environ[\"ADAM_API_KEY\"])\n",
    "a.setAdamCore(\"https://explorer-space.adamplatform.eu\")\n",
    "a.authorize()"
   ]
  },
  {
   "cell_type": "code",
   "execution_count": 18,
   "id": "a1458d40",
   "metadata": {},
   "outputs": [
    {
     "name": "stdout",
     "output_type": "stream",
     "text": [
      "Available datasets:\n",
      "type\n",
      "properties\n",
      "58592:MRO_CTX\n"
     ]
    }
   ],
   "source": [
    "datasets = Datasets(a)\n",
    "items = datasets.getDatasets()\n",
    "print( \"Available datasets:\")\n",
    "for key in items: \n",
    "    print( key )"
   ]
  },
  {
   "cell_type": "code",
   "execution_count": 19,
   "id": "8a606c17",
   "metadata": {},
   "outputs": [],
   "source": [
    "datasetId = \"58592:MRO_CTX\""
   ]
  },
  {
   "cell_type": "code",
   "execution_count": 20,
   "id": "bb6be576",
   "metadata": {},
   "outputs": [
    {
     "data": {
      "text/plain": [
       "{'datasetId': 'MRO_CTX',\n",
       " 'creationDate': '2021-04-13T15:23:24Z',\n",
       " 'dataType': 'Float32',\n",
       " 'epsg': '4326',\n",
       " 'keywords': [],\n",
       " 'license': {'documentationUrl': '',\n",
       "  'dataProviderName': 'Jacobs University',\n",
       "  'dataProviderUrl': '',\n",
       "  'licenseId': '',\n",
       "  'dataPolicy': '',\n",
       "  'doi': '',\n",
       "  'credits': ''},\n",
       " 'maxDate': '2020-08-31T18:19:37Z',\n",
       " 'maxValue': [0.2],\n",
       " 'minDate': '2006-03-24T04:41:07Z',\n",
       " 'minValue': [-0.02],\n",
       " 'noDataValue': -9999,\n",
       " 'numberOfRecords': 7495,\n",
       " 'profile': {'profileSchema': 'space_profile.json',\n",
       "  'name': 'Space',\n",
       "  'targetName': 'MARS',\n",
       "  'observationMode': 'EDR',\n",
       "  'instrument': 'CONTEXT CAMERA',\n",
       "  'instrumentId': 'CTX',\n",
       "  'mission': 'MARS RECONNAISSANCE ORBITER',\n",
       "  'missionId': 'MRO',\n",
       "  'processingLevel': '',\n",
       "  'solarLongitudeMin': '',\n",
       "  'solarLongitudeMax': '',\n",
       "  'solarDistanceMin': '',\n",
       "  'solarDistanceMax': '',\n",
       "  'solarLongitudeStart': '',\n",
       "  'solarLongitudeEnd': '',\n",
       "  'EmissionAngleMax': 32.39,\n",
       "  'EmissionAngleMin': 0.03,\n",
       "  'IncidenceAngleMax': 86.83,\n",
       "  'IncidenceAngleMin': 32.49,\n",
       "  'PhaseAngleMax': 95.09,\n",
       "  'PhaseAngleMin': 13.16,\n",
       "  'MapScaleMax': 12.27,\n",
       "  'MapScaleMin': 4.97,\n",
       "  'ObservationTimeMax': '2020-08-19T14:21:29.094',\n",
       "  'ObservationTimeMin': '2006-11-08T06:33:07.784'},\n",
       " 'resolutionUnit': 'metre',\n",
       " 'scaleFactor': 1,\n",
       " 'temporalResolution': 'Irregular',\n",
       " 'unit': '',\n",
       " 'unitDescription': '',\n",
       " 'updateDate': '2022-05-10T10:42:22Z',\n",
       " 'geometry': {'type': 'Polygon',\n",
       "  'coordinates': [[[-179.9564906, -89.6981043],\n",
       "    [179.9880362, -89.6981043],\n",
       "    [179.9880362, 89.7832671],\n",
       "    [-179.9564906, 89.7832671],\n",
       "    [-179.9564906, -89.6981043]]]},\n",
       " 'resolutions': [6.0, 38.0, 5.0, 7.0, 9.0],\n",
       " 'anyText': 'MARS-proj,ESA,PT2M,ESA',\n",
       " 'applications': ['Planetary'],\n",
       " 'datasetManagerOrganisation': 'MEEO',\n",
       " 'description': 'Products from Context Camera instrument in Mars Reconnaissance Orbiter',\n",
       " 'title': 'Mars Reconnaissance Orbiter - Context Camera',\n",
       " 'nodataValue': -9999,\n",
       " 'timeReferenceSystem': 'UTC',\n",
       " 'units': 'm',\n",
       " 'unitsDescription': 'N/A',\n",
       " 'colorTable': 'grayscale',\n",
       " 'ingestionInfo': '',\n",
       " 'legend': [],\n",
       " 'pathToOriginalData': '',\n",
       " 'project': [],\n",
       " 'services': ['MWCS', 'ADAM', 'AdamApi'],\n",
       " 'pricing': {'nativeSource': {'name': 'nfs', 'cost': 0, 'pricingPolicy': ''}},\n",
       " 'filtersEnabled': {'type': 'object',\n",
       "  'title': 'Dataset filters',\n",
       "  'properties': {'startDate': {'title': 'Start Date',\n",
       "    'type': 'string',\n",
       "    'format': 'date',\n",
       "    'text_rule': 'false',\n",
       "    'ops_only': 'false',\n",
       "    'math_rule': 'false',\n",
       "    'order_rule': 'false',\n",
       "    'pattern': '^d{4}-[01]d-[0-3]d(T[0-2]d:[0-9]d:[0-9]dZ)?$'},\n",
       "   'endDate': {'title': 'End Date',\n",
       "    'type': 'string',\n",
       "    'format': 'date',\n",
       "    'ops_only': 'false',\n",
       "    'text_rule': 'false',\n",
       "    'math_rule': 'false',\n",
       "    'order_rule': 'false',\n",
       "    'pattern': '^d{4}-[01]d-[0-3]d(T[0-2]d:[0-9]d:[0-9]dZ)?$'},\n",
       "   'targetName': {'title': 'Target Name',\n",
       "    'type': 'string',\n",
       "    'format': 'string',\n",
       "    'text_rule': 'true',\n",
       "    'math_rule': 'false',\n",
       "    'order_rule': 'false',\n",
       "    'ops_only': 'false',\n",
       "    'locked': 'true',\n",
       "    'default': 'MARS'},\n",
       "   'PhaseAngle': {'title': 'Phase Angle Filter',\n",
       "    'type': 'number',\n",
       "    'format': 'string',\n",
       "    'text_rule': 'false',\n",
       "    'math_rule': 'true',\n",
       "    'order_rule': 'false',\n",
       "    'ops_only': 'false',\n",
       "    'locked': 'true'},\n",
       "   'EmissionAngle': {'title': 'Emission Angle Filter',\n",
       "    'type': 'number',\n",
       "    'format': 'string',\n",
       "    'text_rule': 'false',\n",
       "    'math_rule': 'true',\n",
       "    'order_rule': 'false',\n",
       "    'ops_only': 'false',\n",
       "    'locked': 'true'},\n",
       "   'IncidenceAngle': {'title': 'Incidence Angle Filter',\n",
       "    'type': 'number',\n",
       "    'format': 'string',\n",
       "    'text_rule': 'false',\n",
       "    'math_rule': 'true',\n",
       "    'order_rule': 'false',\n",
       "    'ops_only': 'false',\n",
       "    'locked': 'true'},\n",
       "   'MapScale': {'title': 'Map Scale Filter',\n",
       "    'type': 'number',\n",
       "    'format': 'string',\n",
       "    'text_rule': 'false',\n",
       "    'math_rule': 'true',\n",
       "    'order_rule': 'false',\n",
       "    'ops_only': 'false',\n",
       "    'locked': 'true'},\n",
       "   'productId': {'title': 'Product Identifier',\n",
       "    'type': 'string',\n",
       "    'format': 'string',\n",
       "    'text_rule': 'true',\n",
       "    'math_rule': 'false',\n",
       "    'order_rule': 'true',\n",
       "    'ops_only': 'false',\n",
       "    'locked': 'true'},\n",
       "   'observationMode': {'title': 'Observation Mode',\n",
       "    'type': 'string',\n",
       "    'format': 'select',\n",
       "    'text_rule': 'true',\n",
       "    'math_rule': 'false',\n",
       "    'order_rule': 'true',\n",
       "    'ops_only': 'false',\n",
       "    'locked': 'true',\n",
       "    'enum': ['', 'EDR', 'RDR'],\n",
       "    'default': ''}}},\n",
       " 'previews': ''}"
      ]
     },
     "execution_count": 20,
     "metadata": {},
     "output_type": "execute_result"
    }
   ],
   "source": [
    "metadata = datasets.getDatasets(datasetId)\n",
    "metadata"
   ]
  },
  {
   "cell_type": "code",
   "execution_count": 21,
   "id": "d369f93b",
   "metadata": {},
   "outputs": [
    {
     "name": "stdout",
     "output_type": "stream",
     "text": [
      "Number of images: 7495\n"
     ]
    }
   ],
   "source": [
    "print(f\"Number of images: {metadata['numberOfRecords']}\")"
   ]
  },
  {
   "cell_type": "markdown",
   "id": "375684f7",
   "metadata": {},
   "source": [
    "## Count all products"
   ]
  },
  {
   "cell_type": "code",
   "execution_count": 22,
   "id": "83395b2d",
   "metadata": {},
   "outputs": [],
   "source": [
    "min_start_date = date(2006, 3, 24)\n",
    "max_end_date = date(2020, 8, 30)"
   ]
  },
  {
   "cell_type": "code",
   "execution_count": 23,
   "id": "1bb4c152",
   "metadata": {},
   "outputs": [],
   "source": [
    "def downloadMetadata(auth, start_date, end_date):\n",
    "    search = Search(auth)\n",
    "    maxRec = 200\n",
    "    search_result = search.getProducts(\n",
    "        datasetId,\n",
    "        maxRecords=maxRec,\n",
    "        startIndex=0,\n",
    "        outputAttributes=['productId'],\n",
    "        startDate=start_date,\n",
    "        endDate=end_date\n",
    "    )\n",
    "    total_products = len(search_result['content'])\n",
    "    print(f\"Total products: {total_products}\")\n",
    "    if total_products > 0:\n",
    "        return search_result[\"content\"]\n",
    "    else:\n",
    "        return []"
   ]
  },
  {
   "cell_type": "code",
   "execution_count": 10,
   "id": "79bdde2b",
   "metadata": {},
   "outputs": [],
   "source": [
    "files_metadata = []"
   ]
  },
  {
   "cell_type": "code",
   "execution_count": 11,
   "id": "c61bfd5f",
   "metadata": {},
   "outputs": [],
   "source": [
    "start_date = min_start_date #date(2015, 7, 1)\n",
    "end_date = max_end_date #date(2016, 1, 1)\n",
    "days = 15"
   ]
  },
  {
   "cell_type": "code",
   "execution_count": 12,
   "id": "277d3d56",
   "metadata": {
    "scrolled": false
   },
   "outputs": [
    {
     "name": "stdout",
     "output_type": "stream",
     "text": [
      "Download data from 2006-03-24 - 2006-04-08\n",
      "Total products: 0\n",
      "Download data from 2006-04-08 - 2006-04-23\n",
      "Total products: 0\n",
      "Download data from 2006-04-23 - 2006-05-08\n",
      "Total products: 0\n",
      "Download data from 2006-05-08 - 2006-05-23\n",
      "Total products: 0\n",
      "Download data from 2006-05-23 - 2006-06-07\n",
      "Total products: 0\n",
      "Download data from 2006-06-07 - 2006-06-22\n",
      "Total products: 0\n",
      "Download data from 2006-06-22 - 2006-07-07\n",
      "Total products: 0\n",
      "Download data from 2006-07-07 - 2006-07-22\n",
      "Total products: 0\n",
      "Download data from 2006-07-22 - 2006-08-06\n",
      "Total products: 0\n",
      "Download data from 2006-08-06 - 2006-08-21\n",
      "Total products: 0\n",
      "Download data from 2006-08-21 - 2006-09-05\n",
      "Total products: 0\n",
      "Download data from 2006-09-05 - 2006-09-20\n",
      "Total products: 0\n",
      "Download data from 2006-09-20 - 2006-10-05\n",
      "Total products: 0\n",
      "Download data from 2006-10-05 - 2006-10-20\n",
      "Total products: 0\n",
      "Download data from 2006-10-20 - 2006-11-04\n",
      "Total products: 0\n",
      "Download data from 2006-11-04 - 2006-11-19\n",
      "Total products: 9\n",
      "Download data from 2006-11-19 - 2006-12-04\n",
      "Total products: 7\n",
      "Download data from 2006-12-04 - 2006-12-19\n",
      "Total products: 10\n",
      "Download data from 2006-12-19 - 2007-01-03\n",
      "Total products: 21\n",
      "Download data from 2007-01-03 - 2007-01-18\n",
      "Total products: 13\n",
      "Download data from 2007-01-18 - 2007-02-02\n",
      "Total products: 15\n",
      "Download data from 2007-02-02 - 2007-02-17\n",
      "Total products: 16\n",
      "Download data from 2007-02-17 - 2007-03-04\n",
      "Total products: 8\n",
      "Download data from 2007-03-04 - 2007-03-19\n",
      "Total products: 4\n",
      "Download data from 2007-03-19 - 2007-04-03\n",
      "Total products: 6\n",
      "Download data from 2007-04-03 - 2007-04-18\n",
      "Total products: 9\n",
      "Download data from 2007-04-18 - 2007-05-03\n",
      "Total products: 12\n",
      "Download data from 2007-05-03 - 2007-05-18\n",
      "Total products: 2\n",
      "Download data from 2007-05-18 - 2007-06-02\n",
      "Total products: 2\n",
      "Download data from 2007-06-02 - 2007-06-17\n",
      "Total products: 2\n",
      "Download data from 2007-06-17 - 2007-07-02\n",
      "Total products: 3\n",
      "Download data from 2007-07-02 - 2007-07-17\n",
      "Total products: 1\n",
      "Download data from 2007-07-17 - 2007-08-01\n",
      "Total products: 0\n",
      "Download data from 2007-08-01 - 2007-08-16\n",
      "Total products: 1\n",
      "Download data from 2007-08-16 - 2007-08-31\n",
      "Total products: 4\n",
      "Download data from 2007-08-31 - 2007-09-15\n",
      "Total products: 2\n",
      "Download data from 2007-09-15 - 2007-09-30\n",
      "Total products: 7\n",
      "Download data from 2007-09-30 - 2007-10-15\n",
      "Total products: 7\n",
      "Download data from 2007-10-15 - 2007-10-30\n",
      "Total products: 7\n",
      "Download data from 2007-10-30 - 2007-11-14\n",
      "Total products: 4\n",
      "Download data from 2007-11-14 - 2007-11-29\n",
      "Total products: 19\n",
      "Download data from 2007-11-29 - 2007-12-14\n",
      "Total products: 2\n",
      "Download data from 2007-12-14 - 2007-12-29\n",
      "Total products: 13\n",
      "Download data from 2007-12-29 - 2008-01-13\n",
      "Total products: 24\n",
      "Download data from 2008-01-13 - 2008-01-28\n",
      "Total products: 16\n",
      "Download data from 2008-01-28 - 2008-02-12\n",
      "Total products: 16\n",
      "Download data from 2008-02-12 - 2008-02-27\n",
      "Total products: 12\n",
      "Download data from 2008-02-27 - 2008-03-13\n",
      "Total products: 12\n",
      "Download data from 2008-03-13 - 2008-03-28\n",
      "Total products: 17\n",
      "Download data from 2008-03-28 - 2008-04-12\n",
      "Total products: 17\n",
      "Download data from 2008-04-12 - 2008-04-27\n",
      "Total products: 9\n",
      "Download data from 2008-04-27 - 2008-05-12\n",
      "Total products: 6\n",
      "Download data from 2008-05-12 - 2008-05-27\n",
      "Total products: 14\n",
      "Download data from 2008-05-27 - 2008-06-11\n",
      "Total products: 9\n",
      "Download data from 2008-06-11 - 2008-06-26\n",
      "Total products: 10\n",
      "Download data from 2008-06-26 - 2008-07-11\n",
      "Total products: 16\n",
      "Download data from 2008-07-11 - 2008-07-26\n",
      "Total products: 13\n",
      "Download data from 2008-07-26 - 2008-08-10\n",
      "Total products: 12\n",
      "Download data from 2008-08-10 - 2008-08-25\n",
      "Total products: 14\n",
      "Download data from 2008-08-25 - 2008-09-09\n",
      "Total products: 4\n",
      "Download data from 2008-09-09 - 2008-09-24\n",
      "Total products: 2\n",
      "Download data from 2008-09-24 - 2008-10-09\n",
      "Total products: 1\n",
      "Download data from 2008-10-09 - 2008-10-24\n",
      "Total products: 2\n",
      "Download data from 2008-10-24 - 2008-11-08\n",
      "Total products: 2\n",
      "Download data from 2008-11-08 - 2008-11-23\n",
      "Total products: 0\n",
      "Download data from 2008-11-23 - 2008-12-08\n",
      "Total products: 0\n",
      "Download data from 2008-12-08 - 2008-12-23\n",
      "Total products: 0\n",
      "Download data from 2008-12-23 - 2009-01-07\n",
      "Total products: 1\n",
      "Download data from 2009-01-07 - 2009-01-22\n",
      "Total products: 3\n",
      "Download data from 2009-01-22 - 2009-02-06\n",
      "Total products: 1\n",
      "Download data from 2009-02-06 - 2009-02-21\n",
      "Total products: 3\n",
      "Download data from 2009-02-21 - 2009-03-08\n",
      "Total products: 3\n",
      "Download data from 2009-03-08 - 2009-03-23\n",
      "Total products: 3\n",
      "Download data from 2009-03-23 - 2009-04-07\n",
      "Total products: 1\n",
      "Download data from 2009-04-07 - 2009-04-22\n",
      "Total products: 4\n",
      "Download data from 2009-04-22 - 2009-05-07\n",
      "Total products: 2\n",
      "Download data from 2009-05-07 - 2009-05-22\n",
      "Total products: 5\n",
      "Download data from 2009-05-22 - 2009-06-06\n",
      "Total products: 4\n",
      "Download data from 2009-06-06 - 2009-06-21\n",
      "Total products: 5\n",
      "Download data from 2009-06-21 - 2009-07-06\n",
      "Total products: 5\n",
      "Download data from 2009-07-06 - 2009-07-21\n",
      "Total products: 6\n",
      "Download data from 2009-07-21 - 2009-08-05\n",
      "Total products: 2\n",
      "Download data from 2009-08-05 - 2009-08-20\n",
      "Total products: 0\n",
      "Download data from 2009-08-20 - 2009-09-04\n",
      "Total products: 2\n",
      "Download data from 2009-09-04 - 2009-09-19\n",
      "Total products: 0\n",
      "Download data from 2009-09-19 - 2009-10-04\n",
      "Total products: 0\n",
      "Download data from 2009-10-04 - 2009-10-19\n",
      "Total products: 0\n",
      "Download data from 2009-10-19 - 2009-11-03\n",
      "Total products: 0\n",
      "Download data from 2009-11-03 - 2009-11-18\n",
      "Total products: 0\n",
      "Download data from 2009-11-18 - 2009-12-03\n",
      "Total products: 0\n",
      "Download data from 2009-12-03 - 2009-12-18\n",
      "Total products: 1\n",
      "Download data from 2009-12-18 - 2010-01-02\n",
      "Total products: 2\n",
      "Download data from 2010-01-02 - 2010-01-17\n",
      "Total products: 2\n",
      "Download data from 2010-01-17 - 2010-02-01\n",
      "Total products: 2\n",
      "Download data from 2010-02-01 - 2010-02-16\n",
      "Total products: 7\n",
      "Download data from 2010-02-16 - 2010-03-03\n",
      "Total products: 3\n",
      "Download data from 2010-03-03 - 2010-03-18\n",
      "Total products: 1\n",
      "Download data from 2010-03-18 - 2010-04-02\n",
      "Total products: 2\n",
      "Download data from 2010-04-02 - 2010-04-17\n",
      "Total products: 3\n",
      "Download data from 2010-04-17 - 2010-05-02\n",
      "Total products: 1\n",
      "Download data from 2010-05-02 - 2010-05-17\n",
      "Total products: 3\n",
      "Download data from 2010-05-17 - 2010-06-01\n",
      "Total products: 1\n",
      "Download data from 2010-06-01 - 2010-06-16\n",
      "Total products: 3\n",
      "Download data from 2010-06-16 - 2010-07-01\n",
      "Total products: 2\n",
      "Download data from 2010-07-01 - 2010-07-16\n",
      "Total products: 6\n",
      "Download data from 2010-07-16 - 2010-07-31\n",
      "Total products: 3\n",
      "Download data from 2010-07-31 - 2010-08-15\n",
      "Total products: 8\n",
      "Download data from 2010-08-15 - 2010-08-30\n",
      "Total products: 3\n",
      "Download data from 2010-08-30 - 2010-09-14\n",
      "Total products: 2\n",
      "Download data from 2010-09-14 - 2010-09-29\n",
      "Total products: 0\n",
      "Download data from 2010-09-29 - 2010-10-14\n",
      "Total products: 4\n",
      "Download data from 2010-10-14 - 2010-10-29\n",
      "Total products: 6\n",
      "Download data from 2010-10-29 - 2010-11-13\n",
      "Total products: 5\n",
      "Download data from 2010-11-13 - 2010-11-28\n",
      "Total products: 1\n",
      "Download data from 2010-11-28 - 2010-12-13\n",
      "Total products: 5\n",
      "Download data from 2010-12-13 - 2010-12-28\n",
      "Total products: 3\n",
      "Download data from 2010-12-28 - 2011-01-12\n",
      "Total products: 0\n",
      "Download data from 2011-01-12 - 2011-01-27\n",
      "Total products: 0\n",
      "Download data from 2011-01-27 - 2011-02-11\n",
      "Total products: 0\n",
      "Download data from 2011-02-11 - 2011-02-26\n",
      "Total products: 0\n",
      "Download data from 2011-02-26 - 2011-03-13\n",
      "Total products: 1\n",
      "Download data from 2011-03-13 - 2011-03-28\n",
      "Total products: 0\n",
      "Download data from 2011-03-28 - 2011-04-12\n",
      "Total products: 1\n",
      "Download data from 2011-04-12 - 2011-04-27\n",
      "Total products: 1\n",
      "Download data from 2011-04-27 - 2011-05-12\n",
      "Total products: 2\n",
      "Download data from 2011-05-12 - 2011-05-27\n",
      "Total products: 3\n",
      "Download data from 2011-05-27 - 2011-06-11\n",
      "Total products: 1\n",
      "Download data from 2011-06-11 - 2011-06-26\n",
      "Total products: 1\n",
      "Download data from 2011-06-26 - 2011-07-11\n",
      "Total products: 1\n",
      "Download data from 2011-07-11 - 2011-07-26\n",
      "Total products: 0\n",
      "Download data from 2011-07-26 - 2011-08-10\n",
      "Total products: 0\n",
      "Download data from 2011-08-10 - 2011-08-25\n",
      "Total products: 2\n",
      "Download data from 2011-08-25 - 2011-09-09\n",
      "Total products: 4\n",
      "Download data from 2011-09-09 - 2011-09-24\n",
      "Total products: 4\n",
      "Download data from 2011-09-24 - 2011-10-09\n"
     ]
    },
    {
     "name": "stdout",
     "output_type": "stream",
     "text": [
      "Total products: 3\n",
      "Download data from 2011-10-09 - 2011-10-24\n",
      "Total products: 3\n",
      "Download data from 2011-10-24 - 2011-11-08\n",
      "Total products: 3\n",
      "Download data from 2011-11-08 - 2011-11-23\n",
      "Total products: 1\n",
      "Download data from 2011-11-23 - 2011-12-08\n",
      "Total products: 3\n",
      "Download data from 2011-12-08 - 2011-12-23\n",
      "Total products: 4\n",
      "Download data from 2011-12-23 - 2012-01-07\n",
      "Total products: 5\n",
      "Download data from 2012-01-07 - 2012-01-22\n",
      "Total products: 2\n",
      "Download data from 2012-01-22 - 2012-02-06\n",
      "Total products: 3\n",
      "Download data from 2012-02-06 - 2012-02-21\n",
      "Total products: 3\n",
      "Download data from 2012-02-21 - 2012-03-07\n",
      "Total products: 5\n",
      "Download data from 2012-03-07 - 2012-03-22\n",
      "Total products: 4\n",
      "Download data from 2012-03-22 - 2012-04-06\n",
      "Total products: 1\n",
      "Download data from 2012-04-06 - 2012-04-21\n",
      "Total products: 0\n",
      "Download data from 2012-04-21 - 2012-05-06\n",
      "Total products: 2\n",
      "Download data from 2012-05-06 - 2012-05-21\n",
      "Total products: 2\n",
      "Download data from 2012-05-21 - 2012-06-05\n",
      "Total products: 3\n",
      "Download data from 2012-06-05 - 2012-06-20\n",
      "Total products: 3\n",
      "Download data from 2012-06-20 - 2012-07-05\n",
      "Total products: 3\n",
      "Download data from 2012-07-05 - 2012-07-20\n",
      "Total products: 2\n",
      "Download data from 2012-07-20 - 2012-08-04\n",
      "Total products: 3\n",
      "Download data from 2012-08-04 - 2012-08-19\n",
      "Total products: 0\n",
      "Download data from 2012-08-19 - 2012-09-03\n",
      "Total products: 0\n",
      "Download data from 2012-09-03 - 2012-09-18\n",
      "Total products: 6\n",
      "Download data from 2012-09-18 - 2012-10-03\n",
      "Total products: 6\n",
      "Download data from 2012-10-03 - 2012-10-18\n",
      "Total products: 1\n",
      "Download data from 2012-10-18 - 2012-11-02\n",
      "Total products: 4\n",
      "Download data from 2012-11-02 - 2012-11-17\n",
      "Total products: 2\n",
      "Download data from 2012-11-17 - 2012-12-02\n",
      "Total products: 3\n",
      "Download data from 2012-12-02 - 2012-12-17\n",
      "Total products: 2\n",
      "Download data from 2012-12-17 - 2013-01-01\n",
      "Total products: 1\n",
      "Download data from 2013-01-01 - 2013-01-16\n",
      "Total products: 0\n",
      "Download data from 2013-01-16 - 2013-01-31\n",
      "Total products: 1\n",
      "Download data from 2013-01-31 - 2013-02-15\n",
      "Total products: 1\n",
      "Download data from 2013-02-15 - 2013-03-02\n",
      "Total products: 0\n",
      "Download data from 2013-03-02 - 2013-03-17\n",
      "Total products: 2\n",
      "Download data from 2013-03-17 - 2013-04-01\n",
      "Total products: 3\n",
      "Download data from 2013-04-01 - 2013-04-16\n",
      "Total products: 0\n",
      "Download data from 2013-04-16 - 2013-05-01\n",
      "Total products: 0\n",
      "Download data from 2013-05-01 - 2013-05-16\n",
      "Total products: 2\n",
      "Download data from 2013-05-16 - 2013-05-31\n",
      "Total products: 1\n",
      "Download data from 2013-05-31 - 2013-06-15\n",
      "Total products: 0\n",
      "Download data from 2013-06-15 - 2013-06-30\n",
      "Total products: 2\n",
      "Download data from 2013-06-30 - 2013-07-15\n",
      "Total products: 1\n",
      "Download data from 2013-07-15 - 2013-07-30\n",
      "Total products: 3\n",
      "Download data from 2013-07-30 - 2013-08-14\n",
      "Total products: 4\n",
      "Download data from 2013-08-14 - 2013-08-29\n",
      "Total products: 2\n",
      "Download data from 2013-08-29 - 2013-09-13\n",
      "Total products: 2\n",
      "Download data from 2013-09-13 - 2013-09-28\n",
      "Total products: 2\n",
      "Download data from 2013-09-28 - 2013-10-13\n",
      "Total products: 3\n",
      "Download data from 2013-10-13 - 2013-10-28\n",
      "Total products: 3\n",
      "Download data from 2013-10-28 - 2013-11-12\n",
      "Total products: 2\n",
      "Download data from 2013-11-12 - 2013-11-27\n",
      "Total products: 4\n",
      "Download data from 2013-11-27 - 2013-12-12\n",
      "Total products: 2\n",
      "Download data from 2013-12-12 - 2013-12-27\n",
      "Total products: 6\n",
      "Download data from 2013-12-27 - 2014-01-11\n",
      "Total products: 7\n",
      "Download data from 2014-01-11 - 2014-01-26\n",
      "Total products: 4\n",
      "Download data from 2014-01-26 - 2014-02-10\n",
      "Total products: 2\n",
      "Download data from 2014-02-10 - 2014-02-25\n",
      "Total products: 3\n",
      "Download data from 2014-02-25 - 2014-03-12\n",
      "Total products: 3\n",
      "Download data from 2014-03-12 - 2014-03-27\n",
      "Total products: 3\n",
      "Download data from 2014-03-27 - 2014-04-11\n",
      "Total products: 2\n",
      "Download data from 2014-04-11 - 2014-04-26\n",
      "Total products: 4\n",
      "Download data from 2014-04-26 - 2014-05-11\n",
      "Total products: 5\n",
      "Download data from 2014-05-11 - 2014-05-26\n",
      "Total products: 6\n",
      "Download data from 2014-05-26 - 2014-06-10\n",
      "Total products: 4\n",
      "Download data from 2014-06-10 - 2014-06-25\n",
      "Total products: 5\n",
      "Download data from 2014-06-25 - 2014-07-10\n",
      "Total products: 5\n",
      "Download data from 2014-07-10 - 2014-07-25\n",
      "Total products: 5\n",
      "Download data from 2014-07-25 - 2014-08-09\n",
      "Total products: 2\n",
      "Download data from 2014-08-09 - 2014-08-24\n",
      "Total products: 7\n",
      "Download data from 2014-08-24 - 2014-09-08\n",
      "Total products: 5\n",
      "Download data from 2014-09-08 - 2014-09-23\n",
      "Total products: 3\n",
      "Download data from 2014-09-23 - 2014-10-08\n",
      "Total products: 1\n",
      "Download data from 2014-10-08 - 2014-10-23\n",
      "Total products: 4\n",
      "Download data from 2014-10-23 - 2014-11-07\n",
      "Total products: 1\n",
      "Download data from 2014-11-07 - 2014-11-22\n",
      "Total products: 2\n",
      "Download data from 2014-11-22 - 2014-12-07\n",
      "Total products: 3\n",
      "Download data from 2014-12-07 - 2014-12-22\n",
      "Total products: 2\n",
      "Download data from 2014-12-22 - 2015-01-06\n",
      "Total products: 2\n",
      "Download data from 2015-01-06 - 2015-01-21\n",
      "Total products: 4\n",
      "Download data from 2015-01-21 - 2015-02-05\n",
      "Total products: 1\n",
      "Download data from 2015-02-05 - 2015-02-20\n",
      "Total products: 0\n",
      "Download data from 2015-02-20 - 2015-03-07\n",
      "Total products: 0\n",
      "Download data from 2015-03-07 - 2015-03-22\n",
      "Total products: 0\n",
      "Download data from 2015-03-22 - 2015-04-06\n",
      "Total products: 0\n",
      "Download data from 2015-04-06 - 2015-04-21\n",
      "Total products: 1\n",
      "Download data from 2015-04-21 - 2015-05-06\n",
      "Total products: 0\n",
      "Download data from 2015-05-06 - 2015-05-21\n",
      "Total products: 1\n",
      "Download data from 2015-05-21 - 2015-06-05\n",
      "Total products: 0\n",
      "Download data from 2015-06-05 - 2015-06-20\n",
      "Total products: 0\n",
      "Download data from 2015-06-20 - 2015-07-05\n",
      "Total products: 0\n",
      "Download data from 2015-07-05 - 2015-07-20\n",
      "Total products: 3\n",
      "Download data from 2015-07-20 - 2015-08-04\n",
      "Total products: 2\n",
      "Download data from 2015-08-04 - 2015-08-19\n",
      "Total products: 4\n",
      "Download data from 2015-08-19 - 2015-09-03\n",
      "Total products: 3\n",
      "Download data from 2015-09-03 - 2015-09-18\n",
      "Total products: 2\n",
      "Download data from 2015-09-18 - 2015-10-03\n",
      "Total products: 1\n",
      "Download data from 2015-10-03 - 2015-10-18\n",
      "Total products: 1\n",
      "Download data from 2015-10-18 - 2015-11-02\n",
      "Total products: 1\n",
      "Download data from 2015-11-02 - 2015-11-17\n",
      "Total products: 2\n",
      "Download data from 2015-11-17 - 2015-12-02\n",
      "Total products: 1\n",
      "Download data from 2015-12-02 - 2015-12-17\n",
      "Total products: 1\n",
      "Download data from 2015-12-17 - 2016-01-01\n",
      "Total products: 2\n",
      "Download data from 2016-01-01 - 2016-01-16\n",
      "Total products: 3\n",
      "Download data from 2016-01-16 - 2016-01-31\n",
      "Total products: 0\n",
      "Download data from 2016-01-31 - 2016-02-15\n",
      "Total products: 0\n",
      "Download data from 2016-02-15 - 2016-03-01\n",
      "Total products: 2\n",
      "Download data from 2016-03-01 - 2016-03-16\n",
      "Total products: 1\n",
      "Download data from 2016-03-16 - 2016-03-31\n",
      "Total products: 1\n",
      "Download data from 2016-03-31 - 2016-04-15\n",
      "Total products: 0\n",
      "Download data from 2016-04-15 - 2016-04-30\n",
      "Total products: 3\n",
      "Download data from 2016-04-30 - 2016-05-15\n",
      "Total products: 2\n",
      "Download data from 2016-05-15 - 2016-05-30\n",
      "Total products: 3\n",
      "Download data from 2016-05-30 - 2016-06-14\n",
      "Total products: 2\n",
      "Download data from 2016-06-14 - 2016-06-29\n",
      "Total products: 1\n",
      "Download data from 2016-06-29 - 2016-07-14\n",
      "Total products: 0\n",
      "Download data from 2016-07-14 - 2016-07-29\n",
      "Total products: 0\n",
      "Download data from 2016-07-29 - 2016-08-13\n",
      "Total products: 3\n",
      "Download data from 2016-08-13 - 2016-08-28\n",
      "Total products: 2\n",
      "Download data from 2016-08-28 - 2016-09-12\n",
      "Total products: 0\n",
      "Download data from 2016-09-12 - 2016-09-27\n",
      "Total products: 1\n",
      "Download data from 2016-09-27 - 2016-10-12\n",
      "Total products: 1\n",
      "Download data from 2016-10-12 - 2016-10-27\n",
      "Total products: 0\n",
      "Download data from 2016-10-27 - 2016-11-11\n",
      "Total products: 0\n",
      "Download data from 2016-11-11 - 2016-11-26\n",
      "Total products: 0\n",
      "Download data from 2016-11-26 - 2016-12-11\n",
      "Total products: 0\n",
      "Download data from 2016-12-11 - 2016-12-26\n",
      "Total products: 1\n",
      "Download data from 2016-12-26 - 2017-01-10\n",
      "Total products: 0\n",
      "Download data from 2017-01-10 - 2017-01-25\n",
      "Total products: 0\n",
      "Download data from 2017-01-25 - 2017-02-09\n",
      "Total products: 0\n",
      "Download data from 2017-02-09 - 2017-02-24\n",
      "Total products: 0\n",
      "Download data from 2017-02-24 - 2017-03-11\n",
      "Total products: 2\n",
      "Download data from 2017-03-11 - 2017-03-26\n",
      "Total products: 2\n",
      "Download data from 2017-03-26 - 2017-04-10\n",
      "Total products: 1\n",
      "Download data from 2017-04-10 - 2017-04-25\n"
     ]
    },
    {
     "name": "stdout",
     "output_type": "stream",
     "text": [
      "Total products: 1\n",
      "Download data from 2017-04-25 - 2017-05-10\n",
      "Total products: 3\n",
      "Download data from 2017-05-10 - 2017-05-25\n",
      "Total products: 1\n",
      "Download data from 2017-05-25 - 2017-06-09\n",
      "Total products: 0\n",
      "Download data from 2017-06-09 - 2017-06-24\n",
      "Total products: 0\n",
      "Download data from 2017-06-24 - 2017-07-09\n",
      "Total products: 0\n",
      "Download data from 2017-07-09 - 2017-07-24\n",
      "Total products: 0\n",
      "Download data from 2017-07-24 - 2017-08-08\n",
      "Total products: 0\n",
      "Download data from 2017-08-08 - 2017-08-23\n",
      "Total products: 0\n",
      "Download data from 2017-08-23 - 2017-09-07\n",
      "Total products: 0\n",
      "Download data from 2017-09-07 - 2017-09-22\n",
      "Total products: 1\n",
      "Download data from 2017-09-22 - 2017-10-07\n",
      "Total products: 0\n",
      "Download data from 2017-10-07 - 2017-10-22\n",
      "Total products: 0\n",
      "Download data from 2017-10-22 - 2017-11-06\n",
      "Total products: 0\n",
      "Download data from 2017-11-06 - 2017-11-21\n",
      "Total products: 0\n",
      "Download data from 2017-11-21 - 2017-12-06\n",
      "Total products: 0\n",
      "Download data from 2017-12-06 - 2017-12-21\n",
      "Total products: 0\n",
      "Download data from 2017-12-21 - 2018-01-05\n",
      "Total products: 0\n",
      "Download data from 2018-01-05 - 2018-01-20\n",
      "Total products: 1\n",
      "Download data from 2018-01-20 - 2018-02-04\n",
      "Total products: 2\n",
      "Download data from 2018-02-04 - 2018-02-19\n",
      "Total products: 1\n",
      "Download data from 2018-02-19 - 2018-03-06\n",
      "Total products: 0\n",
      "Download data from 2018-03-06 - 2018-03-21\n",
      "Total products: 1\n",
      "Download data from 2018-03-21 - 2018-04-05\n",
      "Total products: 0\n",
      "Download data from 2018-04-05 - 2018-04-20\n",
      "Total products: 1\n",
      "Download data from 2018-04-20 - 2018-05-05\n",
      "Total products: 1\n",
      "Download data from 2018-05-05 - 2018-05-20\n",
      "Total products: 2\n",
      "Download data from 2018-05-20 - 2018-06-04\n",
      "Total products: 0\n",
      "Download data from 2018-06-04 - 2018-06-19\n",
      "Total products: 0\n",
      "Download data from 2018-06-19 - 2018-07-04\n",
      "Total products: 1\n",
      "Download data from 2018-07-04 - 2018-07-19\n",
      "Total products: 0\n",
      "Download data from 2018-07-19 - 2018-08-03\n",
      "Total products: 1\n",
      "Download data from 2018-08-03 - 2018-08-18\n",
      "Total products: 0\n",
      "Download data from 2018-08-18 - 2018-09-02\n",
      "Total products: 1\n",
      "Download data from 2018-09-02 - 2018-09-17\n",
      "Total products: 2\n",
      "Download data from 2018-09-17 - 2018-10-02\n",
      "Total products: 3\n",
      "Download data from 2018-10-02 - 2018-10-17\n",
      "Total products: 0\n",
      "Download data from 2018-10-17 - 2018-11-01\n",
      "Total products: 0\n",
      "Download data from 2018-11-01 - 2018-11-16\n",
      "Total products: 0\n",
      "Download data from 2018-11-16 - 2018-12-01\n",
      "Total products: 0\n",
      "Download data from 2018-12-01 - 2018-12-16\n",
      "Total products: 1\n",
      "Download data from 2018-12-16 - 2018-12-31\n",
      "Total products: 0\n",
      "Download data from 2018-12-31 - 2019-01-15\n",
      "Total products: 1\n",
      "Download data from 2019-01-15 - 2019-01-30\n",
      "Total products: 0\n",
      "Download data from 2019-01-30 - 2019-02-14\n",
      "Total products: 1\n",
      "Download data from 2019-02-14 - 2019-03-01\n",
      "Total products: 0\n",
      "Download data from 2019-03-01 - 2019-03-16\n",
      "Total products: 1\n",
      "Download data from 2019-03-16 - 2019-03-31\n",
      "Total products: 1\n",
      "Download data from 2019-03-31 - 2019-04-15\n",
      "Total products: 0\n",
      "Download data from 2019-04-15 - 2019-04-30\n",
      "Total products: 0\n",
      "Download data from 2019-04-30 - 2019-05-15\n",
      "Total products: 2\n",
      "Download data from 2019-05-15 - 2019-05-30\n",
      "Total products: 0\n",
      "Download data from 2019-05-30 - 2019-06-14\n",
      "Total products: 3\n",
      "Download data from 2019-06-14 - 2019-06-29\n",
      "Total products: 0\n",
      "Download data from 2019-06-29 - 2019-07-14\n",
      "Total products: 0\n",
      "Download data from 2019-07-14 - 2019-07-29\n",
      "Total products: 0\n",
      "Download data from 2019-07-29 - 2019-08-13\n",
      "Total products: 0\n",
      "Download data from 2019-08-13 - 2019-08-28\n",
      "Total products: 0\n",
      "Download data from 2019-08-28 - 2019-09-12\n",
      "Total products: 0\n",
      "Download data from 2019-09-12 - 2019-09-27\n",
      "Total products: 0\n",
      "Download data from 2019-09-27 - 2019-10-12\n",
      "Total products: 0\n",
      "Download data from 2019-10-12 - 2019-10-27\n",
      "Total products: 0\n",
      "Download data from 2019-10-27 - 2019-11-11\n",
      "Total products: 0\n",
      "Download data from 2019-11-11 - 2019-11-26\n",
      "Total products: 0\n",
      "Download data from 2019-11-26 - 2019-12-11\n",
      "Total products: 0\n",
      "Download data from 2019-12-11 - 2019-12-26\n",
      "Total products: 0\n",
      "Download data from 2019-12-26 - 2020-01-10\n",
      "Total products: 0\n",
      "Download data from 2020-01-10 - 2020-01-25\n",
      "Total products: 0\n",
      "Download data from 2020-01-25 - 2020-02-09\n",
      "Total products: 0\n",
      "Download data from 2020-02-09 - 2020-02-24\n",
      "Total products: 1\n",
      "Download data from 2020-02-24 - 2020-03-10\n",
      "Total products: 0\n",
      "Download data from 2020-03-10 - 2020-03-25\n",
      "Total products: 1\n",
      "Download data from 2020-03-25 - 2020-04-09\n",
      "Total products: 0\n",
      "Download data from 2020-04-09 - 2020-04-24\n",
      "Total products: 0\n",
      "Download data from 2020-04-24 - 2020-05-09\n",
      "Total products: 0\n",
      "Download data from 2020-05-09 - 2020-05-24\n",
      "Total products: 0\n",
      "Download data from 2020-05-24 - 2020-06-08\n",
      "Total products: 0\n",
      "Download data from 2020-06-08 - 2020-06-23\n",
      "Total products: 1\n",
      "Download data from 2020-06-23 - 2020-07-08\n",
      "Total products: 1\n",
      "Download data from 2020-07-08 - 2020-07-23\n",
      "Total products: 1\n",
      "Download data from 2020-07-23 - 2020-08-07\n",
      "Total products: 2\n",
      "Download data from 2020-08-07 - 2020-08-22\n",
      "Total products: 1\n",
      "Download data from 2020-08-22 - 2020-09-06\n",
      "Total products: 0\n"
     ]
    }
   ],
   "source": [
    "while start_date < end_date:\n",
    "    next_date = start_date + relativedelta(days=days)\n",
    "    print(f\"Download data from {start_date} - {next_date}\")    \n",
    "    files_metadata = files_metadata + downloadMetadata(a, start_date, next_date)\n",
    "    start_date = next_date"
   ]
  },
  {
   "cell_type": "code",
   "execution_count": 13,
   "id": "a86faa78",
   "metadata": {},
   "outputs": [
    {
     "data": {
      "text/plain": [
       "905"
      ]
     },
     "execution_count": 13,
     "metadata": {},
     "output_type": "execute_result"
    }
   ],
   "source": [
    "len(files_metadata)"
   ]
  },
  {
   "cell_type": "code",
   "execution_count": 17,
   "id": "2d186d47",
   "metadata": {},
   "outputs": [],
   "source": [
    "pickle.dump(files_metadata, open(\"./files_metadata.pickle\", 'wb'))"
   ]
  },
  {
   "cell_type": "code",
   "execution_count": 2,
   "id": "cbc3ab87",
   "metadata": {},
   "outputs": [],
   "source": [
    "with open(\"./files_metadata.pickle\", \"rb\") as metadata_file:\n",
    "    products_metadata = pickle.load(metadata_file)    "
   ]
  },
  {
   "cell_type": "code",
   "execution_count": 3,
   "id": "3d1b37fa",
   "metadata": {},
   "outputs": [
    {
     "data": {
      "text/plain": [
       "{'_id': {'$oid': '6277da7659de28212c0b872a'},\n",
       " 'datasetId': 'MRO_CTX',\n",
       " 'productDate': '2006-11-18T11:22:44Z',\n",
       " 'productId': 'P01_001463_2077_XN_27N264W.tif',\n",
       " 'version': 'npt05',\n",
       " 'EmissionAngle': 0.08,\n",
       " 'IncidenceAngle': 48.52,\n",
       " 'MapScale': 5.66,\n",
       " 'ObservationTime': '2006-11-18T11:22:55.215',\n",
       " 'PhaseAngle': 48.51,\n",
       " 'geometry': {'geometries': [{'type': 'Polygon',\n",
       "    'coordinates': [[[95.0097617, 26.9026088],\n",
       "      [95.6986405, 26.9026088],\n",
       "      [95.7061593, 28.0811555],\n",
       "      [95.0098667, 28.0811555],\n",
       "      [95.0097617, 26.9026088]]]}],\n",
       "  'type': 'GeometryCollection'},\n",
       " 'insertDate': '2022-05-08T14:57:58Z',\n",
       " 'instrument': 'CONTEXT CAMERA',\n",
       " 'instrumentId': 'CTX',\n",
       " 'mission': 'MARS RECONNAISSANCE ORBITER',\n",
       " 'missionId': 'MRO',\n",
       " 'observationMode': 'EDR',\n",
       " 'status': '',\n",
       " 'targetName': 'MARS'}"
      ]
     },
     "execution_count": 3,
     "metadata": {},
     "output_type": "execute_result"
    }
   ],
   "source": [
    "products_metadata[0]"
   ]
  },
  {
   "cell_type": "code",
   "execution_count": 20,
   "id": "237bf98b",
   "metadata": {},
   "outputs": [
    {
     "data": {
      "text/plain": [
       "'P01_001463_2077_XN_27N264W.tif'"
      ]
     },
     "execution_count": 20,
     "metadata": {},
     "output_type": "execute_result"
    }
   ],
   "source": [
    "first_product = products_metadata[0][\"productId\"]\n",
    "first_product"
   ]
  },
  {
   "cell_type": "code",
   "execution_count": 5,
   "id": "d400690c",
   "metadata": {},
   "outputs": [],
   "source": [
    "products_dates = [ datetime.fromisoformat(md[\"productDate\"][:-1]+'+00:00') for md in products_metadata]"
   ]
  },
  {
   "cell_type": "code",
   "execution_count": 18,
   "id": "76022199",
   "metadata": {},
   "outputs": [
    {
     "data": {
      "image/png": "[encoded data removed]",
      "text/plain": [
       "<Figure size 1000x500 with 1 Axes>"
      ]
     },
     "metadata": {},
     "output_type": "display_data"
    }
   ],
   "source": [
    "plt.style.use(\"default\")\n",
    "fig = plt.figure(figsize=(10, 5))\n",
    "_ = plt.hist(products_dates, bins=100, color=\"orange\", histtype=\"step\")\n",
    "plt.xlabel(\"Year\")\n",
    "plt.ylabel(\"Products count\")\n",
    "plt.title(f\"Products availability. Total = {len(products_dates)}\")\n",
    "fig.savefig(f'products_availabilty.jpg', dpi=300)"
   ]
  },
  {
   "cell_type": "code",
   "execution_count": 23,
   "id": "c0d97139",
   "metadata": {},
   "outputs": [
    {
     "data": {
      "text/plain": [
       "'P01_001463_2077_XN_27N264W.tif'"
      ]
     },
     "execution_count": 23,
     "metadata": {},
     "output_type": "execute_result"
    }
   ],
   "source": [
    "products_metadata[0][\"productId\"]"
   ]
  },
  {
   "cell_type": "code",
   "execution_count": 24,
   "id": "4957013d",
   "metadata": {},
   "outputs": [
    {
     "data": {
      "text/plain": [
       "'./P01_001463_2077_XN_27N264W.tif'"
      ]
     },
     "execution_count": 24,
     "metadata": {},
     "output_type": "execute_result"
    }
   ],
   "source": [
    "from adamapi import GetData\n",
    "data=GetData(a)\n",
    "data.getData(datasetId, productId = products_metadata[0][\"productId\"], outputFname=f\"./{first_product}\")"
   ]
  },
  {
   "cell_type": "markdown",
   "id": "59c99180",
   "metadata": {},
   "source": [
    "## Download data"
   ]
  },
  {
   "cell_type": "code",
   "execution_count": 26,
   "id": "f8cf56dd",
   "metadata": {},
   "outputs": [],
   "source": [
    "def extract_zip(output_dir, zip_file):\n",
    "\n",
    "    unzipped_datafile = output_dir.joinpath(zip_file.stem)\n",
    "    \n",
    "    if not unzipped_datafile.exists():\n",
    "        print(f\"Unzipping {zip_file}..\")\n",
    "        shutil.unpack_archive(zip_file, output_dir)\n",
    "    else:\n",
    "        print(f\"Unzipped file already exists: {unzipped_datafile}\")"
   ]
  },
  {
   "cell_type": "code",
   "execution_count": 27,
   "id": "d622b863",
   "metadata": {},
   "outputs": [],
   "source": [
    "datapath_unzipped = Path(\"/shared_volume/tif\")"
   ]
  },
  {
   "cell_type": "code",
   "execution_count": 28,
   "id": "641038c8",
   "metadata": {},
   "outputs": [],
   "source": [
    "with open(\"./files_metadata.pickle\", \"rb\") as metadata_file:\n",
    "    products_metadata = pickle.load(metadata_file)    "
   ]
  },
  {
   "cell_type": "code",
   "execution_count": 29,
   "id": "71133d35",
   "metadata": {},
   "outputs": [],
   "source": [
    "tmp_dir = Path(\"/shared_volume/tif_zip\")\n",
    "if tmp_dir.exists():\n",
    "    shutil.rmtree(tmp_dir)\n",
    "tmp_dir.mkdir(parents=True)"
   ]
  },
  {
   "cell_type": "code",
   "execution_count": 30,
   "id": "8c8d2757",
   "metadata": {},
   "outputs": [
    {
     "name": "stderr",
     "output_type": "stream",
     "text": [
      "\r",
      "  0%|                                                    | 0/50 [00:00<?, ?it/s]"
     ]
    },
    {
     "name": "stdout",
     "output_type": "stream",
     "text": [
      "Trying to download P01_001463_2077_XN_27N264W.tif...\n"
     ]
    },
    {
     "name": "stderr",
     "output_type": "stream",
     "text": [
      "\r",
      "  2%|▉                                           | 1/50 [00:07<06:25,  7.86s/it]"
     ]
    },
    {
     "name": "stdout",
     "output_type": "stream",
     "text": [
      "Trying to download P01_001462_2017_XI_21N236W.tif...\n"
     ]
    },
    {
     "name": "stderr",
     "output_type": "stream",
     "text": [
      "\r",
      "  4%|█▊                                          | 2/50 [00:17<07:14,  9.05s/it]"
     ]
    },
    {
     "name": "stdout",
     "output_type": "stream",
     "text": [
      "Trying to download P01_001435_2280_XI_48N226W.tif...\n"
     ]
    },
    {
     "name": "stderr",
     "output_type": "stream",
     "text": [
      "\r",
      "  6%|██▋                                         | 3/50 [00:27<07:21,  9.40s/it]"
     ]
    },
    {
     "name": "stdout",
     "output_type": "stream",
     "text": [
      "Trying to download P01_001422_1747_XN_05S222W.tif...\n"
     ]
    },
    {
     "name": "stderr",
     "output_type": "stream",
     "text": [
      "\r",
      "  8%|███▌                                        | 4/50 [00:54<12:26, 16.22s/it]"
     ]
    },
    {
     "name": "stdout",
     "output_type": "stream",
     "text": [
      "Trying to download P01_001418_2494_XI_69N125W.tif...\n"
     ]
    },
    {
     "name": "stderr",
     "output_type": "stream",
     "text": [
      "\r",
      " 10%|████▍                                       | 5/50 [00:57<08:33, 11.40s/it]"
     ]
    },
    {
     "name": "stdout",
     "output_type": "stream",
     "text": [
      "Trying to download P01_001414_1780_XI_02S005W.tif...\n"
     ]
    },
    {
     "name": "stderr",
     "output_type": "stream",
     "text": [
      "\r",
      " 12%|█████▎                                      | 6/50 [01:02<06:46,  9.25s/it]"
     ]
    },
    {
     "name": "stdout",
     "output_type": "stream",
     "text": [
      "Trying to download P01_001356_2089_XN_28N225W.tif...\n"
     ]
    },
    {
     "name": "stderr",
     "output_type": "stream",
     "text": [
      "\r",
      " 14%|██████▏                                     | 7/50 [01:09<06:10,  8.62s/it]"
     ]
    },
    {
     "name": "stdout",
     "output_type": "stream",
     "text": [
      "Trying to download P01_001356_1747_XN_05S221W.tif...\n"
     ]
    },
    {
     "name": "stderr",
     "output_type": "stream",
     "text": [
      "\r",
      " 16%|███████                                     | 8/50 [01:31<09:01, 12.89s/it]"
     ]
    },
    {
     "name": "stdout",
     "output_type": "stream",
     "text": [
      "Trying to download P01_001332_1997_XI_19N289W.tif...\n"
     ]
    },
    {
     "name": "stderr",
     "output_type": "stream",
     "text": [
      "\r",
      " 18%|███████▉                                    | 9/50 [01:36<07:07, 10.42s/it]"
     ]
    },
    {
     "name": "stdout",
     "output_type": "stream",
     "text": [
      "Trying to download P01_001620_1749_XI_05S222W.tif...\n"
     ]
    },
    {
     "name": "stderr",
     "output_type": "stream",
     "text": [
      "\r",
      " 20%|████████▌                                  | 10/50 [02:02<10:04, 15.12s/it]"
     ]
    },
    {
     "name": "stdout",
     "output_type": "stream",
     "text": [
      "Trying to download P01_001612_1780_XI_02S005W.tif...\n"
     ]
    },
    {
     "name": "stderr",
     "output_type": "stream",
     "text": [
      "\r",
      " 22%|█████████▍                                 | 11/50 [02:08<08:10, 12.57s/it]"
     ]
    },
    {
     "name": "stdout",
     "output_type": "stream",
     "text": [
      "Trying to download P01_001554_1745_XI_05S221W.tif...\n"
     ]
    },
    {
     "name": "stderr",
     "output_type": "stream",
     "text": [
      "\r",
      " 24%|██████████▎                                | 12/50 [02:33<10:20, 16.34s/it]"
     ]
    },
    {
     "name": "stdout",
     "output_type": "stream",
     "text": [
      "Trying to download P01_001521_2026_XI_22N048W.tif...\n"
     ]
    },
    {
     "name": "stderr",
     "output_type": "stream",
     "text": [
      "\r",
      " 26%|███████████▏                               | 13/50 [02:40<08:11, 13.28s/it]"
     ]
    },
    {
     "name": "stdout",
     "output_type": "stream",
     "text": [
      "Trying to download P01_001513_1654_XI_14S184W.tif...\n"
     ]
    },
    {
     "name": "stderr",
     "output_type": "stream",
     "text": [
      "\r",
      " 28%|████████████                               | 14/50 [03:06<10:25, 17.37s/it]"
     ]
    },
    {
     "name": "stdout",
     "output_type": "stream",
     "text": [
      "Trying to download P01_001501_2281_XN_48N224W.tif...\n"
     ]
    },
    {
     "name": "stderr",
     "output_type": "stream",
     "text": [
      "\r",
      " 30%|████████████▉                              | 15/50 [03:13<08:10, 14.02s/it]"
     ]
    },
    {
     "name": "stdout",
     "output_type": "stream",
     "text": [
      "Trying to download P01_001488_1751_XI_04S222W.tif...\n"
     ]
    },
    {
     "name": "stderr",
     "output_type": "stream",
     "text": [
      "\r",
      " 32%|█████████████▊                             | 16/50 [03:25<07:41, 13.58s/it]"
     ]
    },
    {
     "name": "stdout",
     "output_type": "stream",
     "text": [
      "Trying to download P02_001833_2063_XN_26N278W.tif...\n"
     ]
    },
    {
     "name": "stderr",
     "output_type": "stream",
     "text": [
      "\r",
      " 34%|██████████████▌                            | 17/50 [03:44<08:17, 15.09s/it]"
     ]
    },
    {
     "name": "stdout",
     "output_type": "stream",
     "text": [
      "Trying to download P02_001832_2051_XN_25N251W.tif...\n"
     ]
    },
    {
     "name": "stderr",
     "output_type": "stream",
     "text": [
      "\r",
      " 36%|███████████████▍                           | 18/50 [03:54<07:19, 13.74s/it]"
     ]
    },
    {
     "name": "stdout",
     "output_type": "stream",
     "text": [
      "Trying to download P02_001820_1984_XI_18N282W.tif...\n"
     ]
    },
    {
     "name": "stderr",
     "output_type": "stream",
     "text": [
      "\r",
      " 38%|████████████████▎                          | 19/50 [04:00<05:44, 11.13s/it]"
     ]
    },
    {
     "name": "stdout",
     "output_type": "stream",
     "text": [
      "Trying to download P02_001805_1996_XN_19N233W.tif...\n"
     ]
    },
    {
     "name": "stderr",
     "output_type": "stream",
     "text": [
      "\r",
      " 40%|█████████████████▏                         | 20/50 [04:07<04:57,  9.93s/it]"
     ]
    },
    {
     "name": "stdout",
     "output_type": "stream",
     "text": [
      "Trying to download P02_001792_2016_XI_21N236W.tif...\n"
     ]
    },
    {
     "name": "stderr",
     "output_type": "stream",
     "text": [
      "\r",
      " 42%|██████████████████                         | 21/50 [04:18<04:57, 10.27s/it]"
     ]
    },
    {
     "name": "stdout",
     "output_type": "stream",
     "text": [
      "Trying to download P02_001777_1653_XI_14S184W.tif...\n"
     ]
    },
    {
     "name": "stderr",
     "output_type": "stream",
     "text": [
      "\r",
      " 44%|██████████████████▉                        | 22/50 [04:24<04:15,  9.13s/it]"
     ]
    },
    {
     "name": "stdout",
     "output_type": "stream",
     "text": [
      "Trying to download P02_001754_2021_XI_22N281W.tif...\n"
     ]
    },
    {
     "name": "stderr",
     "output_type": "stream",
     "text": [
      "\r",
      " 46%|███████████████████▊                       | 23/50 [04:29<03:35,  7.96s/it]"
     ]
    },
    {
     "name": "stdout",
     "output_type": "stream",
     "text": [
      "Trying to download P02_001752_1753_XI_04S222W.tif...\n"
     ]
    },
    {
     "name": "stderr",
     "output_type": "stream",
     "text": [
      "\r",
      " 48%|████████████████████▋                      | 24/50 [04:44<04:16,  9.85s/it]"
     ]
    },
    {
     "name": "stdout",
     "output_type": "stream",
     "text": [
      "Trying to download P02_001726_2014_XN_21N238W.tif...\n"
     ]
    },
    {
     "name": "stderr",
     "output_type": "stream",
     "text": [
      "\r",
      " 50%|█████████████████████▌                     | 25/50 [04:56<04:21, 10.46s/it]"
     ]
    },
    {
     "name": "stdout",
     "output_type": "stream",
     "text": [
      "Trying to download P02_001719_2024_XI_22N048W.tif...\n"
     ]
    },
    {
     "name": "stderr",
     "output_type": "stream",
     "text": [
      "\r",
      " 52%|██████████████████████▎                    | 26/50 [05:01<03:31,  8.80s/it]"
     ]
    },
    {
     "name": "stdout",
     "output_type": "stream",
     "text": [
      "Trying to download P03_002055_2280_XI_48N225W.tif...\n"
     ]
    },
    {
     "name": "stderr",
     "output_type": "stream",
     "text": [
      "\r",
      " 54%|███████████████████████▏                   | 27/50 [05:05<02:53,  7.52s/it]"
     ]
    },
    {
     "name": "stdout",
     "output_type": "stream",
     "text": [
      "Trying to download P03_002031_2052_XI_25N284W.tif...\n"
     ]
    },
    {
     "name": "stderr",
     "output_type": "stream",
     "text": [
      "\r",
      " 56%|████████████████████████                   | 28/50 [05:10<02:29,  6.78s/it]"
     ]
    },
    {
     "name": "stdout",
     "output_type": "stream",
     "text": [
      "Trying to download P03_002029_2077_XN_27N229W.tif...\n"
     ]
    },
    {
     "name": "stderr",
     "output_type": "stream",
     "text": [
      "\r",
      " 58%|████████████████████████▉                  | 29/50 [05:19<02:33,  7.29s/it]"
     ]
    },
    {
     "name": "stdout",
     "output_type": "stream",
     "text": [
      "Trying to download P03_002025_2484_XI_68N129W.tif...\n"
     ]
    },
    {
     "name": "stderr",
     "output_type": "stream",
     "text": [
      "\r",
      " 60%|█████████████████████████▊                 | 30/50 [05:21<01:57,  5.89s/it]"
     ]
    },
    {
     "name": "stdout",
     "output_type": "stream",
     "text": [
      "Trying to download P02_002012_2485_XI_68N128W.tif...\n"
     ]
    },
    {
     "name": "stderr",
     "output_type": "stream",
     "text": [
      "\r",
      " 62%|██████████████████████████▋                | 31/50 [05:23<01:31,  4.81s/it]"
     ]
    },
    {
     "name": "stdout",
     "output_type": "stream",
     "text": [
      "Trying to download P02_002003_2025_XN_22N239W.tif...\n"
     ]
    },
    {
     "name": "stderr",
     "output_type": "stream",
     "text": [
      "\r",
      " 64%|███████████████████████████▌               | 32/50 [05:42<02:40,  8.92s/it]"
     ]
    },
    {
     "name": "stdout",
     "output_type": "stream",
     "text": [
      "Trying to download P02_001976_2280_XI_48N225W.tif...\n"
     ]
    },
    {
     "name": "stderr",
     "output_type": "stream",
     "text": [
      "\r",
      " 66%|████████████████████████████▍              | 33/50 [05:47<02:12,  7.78s/it]"
     ]
    },
    {
     "name": "stdout",
     "output_type": "stream",
     "text": [
      "Trying to download P02_001972_2485_XI_68N128W.tif...\n"
     ]
    },
    {
     "name": "stderr",
     "output_type": "stream",
     "text": [
      "\r",
      " 68%|█████████████████████████████▏             | 34/50 [05:50<01:38,  6.17s/it]"
     ]
    },
    {
     "name": "stdout",
     "output_type": "stream",
     "text": [
      "Trying to download P02_001965_1988_XN_18N281W.tif...\n"
     ]
    },
    {
     "name": "stderr",
     "output_type": "stream",
     "text": [
      "\r",
      " 70%|██████████████████████████████             | 35/50 [06:01<01:56,  7.80s/it]"
     ]
    },
    {
     "name": "stdout",
     "output_type": "stream",
     "text": [
      "Trying to download P02_001963_2090_XN_29N228W.tif...\n"
     ]
    },
    {
     "name": "stderr",
     "output_type": "stream",
     "text": [
      "\r",
      " 72%|██████████████████████████████▉            | 36/50 [06:23<02:46, 11.88s/it]"
     ]
    },
    {
     "name": "stdout",
     "output_type": "stream",
     "text": [
      "Trying to download P02_001963_2021_XN_22N227W.tif...\n"
     ]
    },
    {
     "name": "stderr",
     "output_type": "stream",
     "text": [
      "\r",
      " 74%|███████████████████████████████▊           | 37/50 [06:31<02:19, 10.71s/it]"
     ]
    },
    {
     "name": "stdout",
     "output_type": "stream",
     "text": [
      "Trying to download P02_001959_2484_XI_68N127W.tif...\n"
     ]
    },
    {
     "name": "stderr",
     "output_type": "stream",
     "text": [
      "\r",
      " 76%|████████████████████████████████▋          | 38/50 [06:33<01:38,  8.24s/it]"
     ]
    },
    {
     "name": "stdout",
     "output_type": "stream",
     "text": [
      "Trying to download P02_001950_2089_XI_28N233W.tif...\n"
     ]
    },
    {
     "name": "stderr",
     "output_type": "stream",
     "text": [
      "\r",
      " 78%|█████████████████████████████████▌         | 39/50 [06:43<01:35,  8.72s/it]"
     ]
    },
    {
     "name": "stdout",
     "output_type": "stream",
     "text": [
      "Trying to download P02_001946_2484_XI_68N127W.tif...\n"
     ]
    },
    {
     "name": "stderr",
     "output_type": "stream",
     "text": [
      "\r",
      " 80%|██████████████████████████████████▍        | 40/50 [06:45<01:08,  6.82s/it]"
     ]
    },
    {
     "name": "stdout",
     "output_type": "stream",
     "text": [
      "Trying to download P02_001937_2008_XN_20N237W.tif...\n"
     ]
    },
    {
     "name": "stderr",
     "output_type": "stream",
     "text": [
      "\r",
      " 82%|███████████████████████████████████▎       | 41/50 [07:01<01:26,  9.62s/it]"
     ]
    },
    {
     "name": "stdout",
     "output_type": "stream",
     "text": [
      "Trying to download P02_001906_2484_XI_68N126W.tif...\n"
     ]
    },
    {
     "name": "stderr",
     "output_type": "stream",
     "text": [
      "\r",
      " 84%|████████████████████████████████████       | 42/50 [07:04<00:59,  7.47s/it]"
     ]
    },
    {
     "name": "stdout",
     "output_type": "stream",
     "text": [
      "Trying to download P02_001897_1747_XI_05S221W.tif...\n"
     ]
    },
    {
     "name": "stderr",
     "output_type": "stream",
     "text": [
      "\r",
      " 86%|████████████████████████████████████▉      | 43/50 [07:27<01:25, 12.19s/it]"
     ]
    },
    {
     "name": "stdout",
     "output_type": "stream",
     "text": [
      "Trying to download P02_001893_2485_XI_68N126W.tif...\n"
     ]
    },
    {
     "name": "stderr",
     "output_type": "stream",
     "text": [
      "\r",
      " 88%|█████████████████████████████████████▊     | 44/50 [07:30<00:56,  9.40s/it]"
     ]
    },
    {
     "name": "stdout",
     "output_type": "stream",
     "text": [
      "Trying to download P02_001890_1993_XI_19N033W.tif...\n"
     ]
    },
    {
     "name": "stderr",
     "output_type": "stream",
     "text": [
      "\r",
      " 90%|██████████████████████████████████████▋    | 45/50 [07:39<00:46,  9.37s/it]"
     ]
    },
    {
     "name": "stdout",
     "output_type": "stream",
     "text": [
      "Trying to download P02_001886_2049_XI_24N285W.tif...\n"
     ]
    },
    {
     "name": "stderr",
     "output_type": "stream",
     "text": [
      "\r",
      " 92%|███████████████████████████████████████▌   | 46/50 [07:49<00:37,  9.45s/it]"
     ]
    },
    {
     "name": "stdout",
     "output_type": "stream",
     "text": [
      "Trying to download P02_001880_2484_XI_68N128W.tif...\n"
     ]
    },
    {
     "name": "stderr",
     "output_type": "stream",
     "text": [
      "\r",
      " 94%|████████████████████████████████████████▍  | 47/50 [07:52<00:22,  7.42s/it]"
     ]
    },
    {
     "name": "stdout",
     "output_type": "stream",
     "text": [
      "Trying to download P03_002249_2483_XI_68N125W.tif...\n"
     ]
    },
    {
     "name": "stderr",
     "output_type": "stream",
     "text": [
      "\r",
      " 96%|█████████████████████████████████████████▎ | 48/50 [07:54<00:11,  5.96s/it]"
     ]
    },
    {
     "name": "stdout",
     "output_type": "stream",
     "text": [
      "Trying to download P03_002240_2089_XI_28N233W.tif...\n"
     ]
    },
    {
     "name": "stderr",
     "output_type": "stream",
     "text": [
      "\r",
      " 98%|██████████████████████████████████████████▏| 49/50 [08:05<00:07,  7.46s/it]"
     ]
    },
    {
     "name": "stdout",
     "output_type": "stream",
     "text": [
      "Trying to download P03_002236_2486_XI_68N128W.tif...\n"
     ]
    },
    {
     "name": "stderr",
     "output_type": "stream",
     "text": [
      "100%|███████████████████████████████████████████| 50/50 [08:08<00:00,  9.76s/it]\n"
     ]
    }
   ],
   "source": [
    "how_many = 50\n",
    "adam_data_service = GetData(a)\n",
    "not_found = []\n",
    "found = []\n",
    "for product_metadata in tqdm(products_metadata[:how_many]):\n",
    "    \n",
    "    output_filename = tmp_dir.joinpath(product_metadata[\"productId\"]).with_suffix(\".tif.zip\")\n",
    "    \n",
    "    if not output_filename.exists():\n",
    "        #print(f\"Trying to download {output_filename.stem}...\")        \n",
    "        try:\n",
    "            adam_data_service.getData(datasetId, productId = product_metadata[\"productId\"], outputFname=output_filename)\n",
    "        except Exception as e:\n",
    "            print(f\"Product ID {product_metadata['productId']} is not found\")\n",
    "            not_found.append(product_metadata['productId'])\n",
    "            print(e)\n",
    "            continue\n",
    "        found.append(product_metadata['productId'])    \n",
    "    else:\n",
    "        print(f\"File {output_filename} has already been downloaded...\")"
   ]
  },
  {
   "cell_type": "markdown",
   "id": "13a4c8ff",
   "metadata": {},
   "source": [
    "### Extracting data"
   ]
  },
  {
   "cell_type": "code",
   "execution_count": 31,
   "id": "4347d515",
   "metadata": {},
   "outputs": [],
   "source": [
    "zipped_data_files = [tmp_dir.joinpath(f) for f in os.listdir(tmp_dir) if tmp_dir.joinpath(f).exists() and \".tif.zip\" in f]"
   ]
  },
  {
   "cell_type": "code",
   "execution_count": 32,
   "id": "8f4e33e8",
   "metadata": {},
   "outputs": [
    {
     "data": {
      "text/plain": [
       "50"
      ]
     },
     "execution_count": 32,
     "metadata": {},
     "output_type": "execute_result"
    }
   ],
   "source": [
    "len(zipped_data_files)"
   ]
  },
  {
   "cell_type": "code",
   "execution_count": 33,
   "id": "26d3f077",
   "metadata": {},
   "outputs": [
    {
     "name": "stdout",
     "output_type": "stream",
     "text": [
      "Unzipping /shared_volume/tif_zip/P03_002029_2077_XN_27N229W.tif.zip..Unzipping /shared_volume/tif_zip/P02_001820_1984_XI_18N282W.tif.zip..Unzipping /shared_volume/tif_zip/P02_001886_2049_XI_24N285W.tif.zip..Unzipping /shared_volume/tif_zip/P02_001832_2051_XN_25N251W.tif.zip..Unzipping /shared_volume/tif_zip/P02_001880_2484_XI_68N128W.tif.zip..\n",
      "\n",
      "\n",
      "\n",
      "\n",
      "Unzipping /shared_volume/tif_zip/P03_002240_2089_XI_28N233W.tif.zip..\n",
      "Unzipping /shared_volume/tif_zip/P02_001897_1747_XI_05S221W.tif.zip..\n",
      "Unzipping /shared_volume/tif_zip/P01_001435_2280_XI_48N226W.tif.zip..\n",
      "Unzipping /shared_volume/tif_zip/P01_001414_1780_XI_02S005W.tif.zip..\n",
      "Unzipping /shared_volume/tif_zip/P03_002236_2486_XI_68N128W.tif.zip..\n",
      "Unzipping /shared_volume/tif_zip/P02_001754_2021_XI_22N281W.tif.zip..\n",
      "Unzipping /shared_volume/tif_zip/P01_001462_2017_XI_21N236W.tif.zip..\n",
      "Unzipping /shared_volume/tif_zip/P01_001418_2494_XI_69N125W.tif.zip..\n",
      "Unzipping /shared_volume/tif_zip/P01_001488_1751_XI_04S222W.tif.zip..\n",
      "Unzipping /shared_volume/tif_zip/P01_001612_1780_XI_02S005W.tif.zip..\n",
      "Unzipping /shared_volume/tif_zip/P02_001893_2485_XI_68N126W.tif.zip..\n",
      "Unzipping /shared_volume/tif_zip/P02_001890_1993_XI_19N033W.tif.zip..\n",
      "Unzipping /shared_volume/tif_zip/P02_001777_1653_XI_14S184W.tif.zip..\n",
      "Unzipping /shared_volume/tif_zip/P03_002249_2483_XI_68N125W.tif.zip..\n",
      "Unzipping /shared_volume/tif_zip/P02_001950_2089_XI_28N233W.tif.zip..\n",
      "Unzipping /shared_volume/tif_zip/P02_001963_2090_XN_29N228W.tif.zip..\n",
      "Unzipping /shared_volume/tif_zip/P02_001937_2008_XN_20N237W.tif.zip..\n",
      "Unzipping /shared_volume/tif_zip/P02_001959_2484_XI_68N127W.tif.zip..\n",
      "Unzipping /shared_volume/tif_zip/P02_001976_2280_XI_48N225W.tif.zip..\n",
      "Unzipping /shared_volume/tif_zip/P02_001906_2484_XI_68N126W.tif.zip..\n",
      "Unzipping /shared_volume/tif_zip/P02_001752_1753_XI_04S222W.tif.zip..\n",
      "Unzipping /shared_volume/tif_zip/P01_001422_1747_XN_05S222W.tif.zip..\n",
      "Unzipping /shared_volume/tif_zip/P01_001620_1749_XI_05S222W.tif.zip..\n",
      "Unzipping /shared_volume/tif_zip/P01_001513_1654_XI_14S184W.tif.zip..\n",
      "Unzipping /shared_volume/tif_zip/P01_001332_1997_XI_19N289W.tif.zip..\n",
      "Unzipping /shared_volume/tif_zip/P02_001792_2016_XI_21N236W.tif.zip..\n",
      "Unzipping /shared_volume/tif_zip/P02_001972_2485_XI_68N128W.tif.zip..\n",
      "Unzipping /shared_volume/tif_zip/P03_002031_2052_XI_25N284W.tif.zip..\n",
      "Unzipping /shared_volume/tif_zip/P01_001463_2077_XN_27N264W.tif.zip..\n",
      "Unzipping /shared_volume/tif_zip/P03_002025_2484_XI_68N129W.tif.zip..\n",
      "Unzipping /shared_volume/tif_zip/P01_001356_1747_XN_05S221W.tif.zip..\n",
      "Unzipping /shared_volume/tif_zip/P01_001356_2089_XN_28N225W.tif.zip..\n",
      "Unzipping /shared_volume/tif_zip/P03_002055_2280_XI_48N225W.tif.zip..\n",
      "Unzipping /shared_volume/tif_zip/P01_001521_2026_XI_22N048W.tif.zip..\n",
      "Unzipping /shared_volume/tif_zip/P02_001726_2014_XN_21N238W.tif.zip..\n",
      "Unzipping /shared_volume/tif_zip/P02_001805_1996_XN_19N233W.tif.zip..\n",
      "Unzipping /shared_volume/tif_zip/P02_001946_2484_XI_68N127W.tif.zip..\n",
      "Unzipping /shared_volume/tif_zip/P01_001554_1745_XI_05S221W.tif.zip..\n",
      "Unzipping /shared_volume/tif_zip/P02_001965_1988_XN_18N281W.tif.zip..\n",
      "Unzipping /shared_volume/tif_zip/P01_001501_2281_XN_48N224W.tif.zip..\n",
      "Unzipping /shared_volume/tif_zip/P02_001719_2024_XI_22N048W.tif.zip..\n",
      "Unzipping /shared_volume/tif_zip/P02_001833_2063_XN_26N278W.tif.zip..\n",
      "Unzipping /shared_volume/tif_zip/P02_002003_2025_XN_22N239W.tif.zip..\n",
      "Unzipping /shared_volume/tif_zip/P02_002012_2485_XI_68N128W.tif.zip..\n",
      "Unzipping /shared_volume/tif_zip/P02_001963_2021_XN_22N227W.tif.zip..\n"
     ]
    },
    {
     "data": {
      "text/plain": [
       "[None,\n",
       " None,\n",
       " None,\n",
       " None,\n",
       " None,\n",
       " None,\n",
       " None,\n",
       " None,\n",
       " None,\n",
       " None,\n",
       " None,\n",
       " None,\n",
       " None,\n",
       " None,\n",
       " None,\n",
       " None,\n",
       " None,\n",
       " None,\n",
       " None,\n",
       " None,\n",
       " None,\n",
       " None,\n",
       " None,\n",
       " None,\n",
       " None,\n",
       " None,\n",
       " None,\n",
       " None,\n",
       " None,\n",
       " None,\n",
       " None,\n",
       " None,\n",
       " None,\n",
       " None,\n",
       " None,\n",
       " None,\n",
       " None,\n",
       " None,\n",
       " None,\n",
       " None,\n",
       " None,\n",
       " None,\n",
       " None,\n",
       " None,\n",
       " None,\n",
       " None,\n",
       " None,\n",
       " None,\n",
       " None,\n",
       " None]"
      ]
     },
     "execution_count": 33,
     "metadata": {},
     "output_type": "execute_result"
    }
   ],
   "source": [
    "datapath_unzipped.mkdir(exist_ok=True, parents=True)\n",
    "\n",
    "pool = multiprocessing.Pool(processes=5)\n",
    "\n",
    "pool.map(partial(extract_zip, datapath_unzipped), zipped_data_files)"
   ]
  },
  {
   "cell_type": "code",
   "execution_count": null,
   "id": "9e06f752",
   "metadata": {},
   "outputs": [],
   "source": []
  }
 ],
 "metadata": {
  "kernelspec": {
   "display_name": "Python 3 (ipykernel)",
   "language": "python",
   "name": "python3"
  },
  "language_info": {
   "codemirror_mode": {
    "name": "ipython",
    "version": 3
   },
   "file_extension": ".py",
   "mimetype": "text/x-python",
   "name": "python",
   "nbconvert_exporter": "python",
   "pygments_lexer": "ipython3",
   "version": "3.8.10"
  },
  "widgets": {
   "application/vnd.jupyter.widget-state+json": {
    "state": {},
    "version_major": 2,
    "version_minor": 0
   }
  }
 },
 "nbformat": 4,
 "nbformat_minor": 5
}
