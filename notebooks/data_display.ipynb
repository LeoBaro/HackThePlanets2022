{
 "cells": [
  {
   "cell_type": "code",
   "execution_count": 1,
   "id": "d731af27",
   "metadata": {},
   "outputs": [],
   "source": [
    "import pickle\n",
    "import shutil\n",
    "import rasterio\n",
    "import geopandas\n",
    "import numpy as np\n",
    "from os import listdir\n",
    "from pathlib import Path\n",
    "import matplotlib.pyplot as plt\n",
    "from shapely.geometry import shape\n",
    "\n",
    "#%matplotlib notebook\n",
    "%matplotlib inline"
   ]
  },
  {
   "cell_type": "markdown",
   "id": "08cc1dec",
   "metadata": {},
   "source": [
    "# Visualize the geometry"
   ]
  },
  {
   "cell_type": "code",
   "execution_count": null,
   "id": "72d01ba3",
   "metadata": {},
   "outputs": [],
   "source": [
    "with open(\"files_metadata.pickle\", \"rb\") as metadata_file:\n",
    "    products_metadata = pickle.load(metadata_file)        "
   ]
  },
  {
   "cell_type": "code",
   "execution_count": null,
   "id": "4a8c0b7c",
   "metadata": {},
   "outputs": [],
   "source": [
    "_gd = {'productId':[], 'geometry':[]}\n",
    "for p in products_metadata[0:1]:\n",
    "    _gd['productId'].append(p['productId'])\n",
    "    _gd['geometry'].append(shape(p['geometry']['geometries'][0]))\n",
    "    \n",
    "_gd"
   ]
  },
  {
   "cell_type": "code",
   "execution_count": null,
   "id": "0bfafbd4",
   "metadata": {},
   "outputs": [],
   "source": [
    "gdf = geopandas.GeoDataFrame(_gd)\n",
    "\n",
    "gdf.plot(alpha=0.25, edgecolor='red', legend=True, column='productId', \n",
    "         legend_kwds={'loc': 'upper left', 'bbox_to_anchor': (1, 1)}, \n",
    "         figsize=(24,16));"
   ]
  },
  {
   "cell_type": "markdown",
   "id": "8d1d06ae",
   "metadata": {},
   "source": [
    "## Visualize the images "
   ]
  },
  {
   "cell_type": "code",
   "execution_count": 2,
   "id": "b95d4e07",
   "metadata": {},
   "outputs": [],
   "source": [
    "datapath = Path(\"/shared_volume/zipped\")\n",
    "datapath_unzipped = Path(\"/shared_volume/unzipped\")\n",
    "datapath_png = Path(\"/shared_volume/png\")"
   ]
  },
  {
   "cell_type": "markdown",
   "id": "5e609fca",
   "metadata": {},
   "source": [
    "Loading the files"
   ]
  },
  {
   "cell_type": "code",
   "execution_count": null,
   "id": "06897968",
   "metadata": {},
   "outputs": [],
   "source": [
    "zipped_data_files = [datapath.joinpath(f) for f in listdir(datapath) if datapath.joinpath(f).exists() and \".tif.zip\" in f]\n",
    "zipped_data_files[0:5]"
   ]
  },
  {
   "cell_type": "code",
   "execution_count": null,
   "id": "9fde1119",
   "metadata": {},
   "outputs": [],
   "source": [
    "def display_image(zipped_data_file, datapath_unzipped, freemem=False):  \n",
    "    \n",
    "    unzipped_datafile = datapath_unzipped.joinpath(zipped_data_file.stem)\n",
    "    unzipped_datafile_png = datapath_png.joinpath(zipped_data_file.stem).with_suffix(\".png\")\n",
    "    \n",
    "    if not unzipped_datafile.exists():\n",
    "        print(f\"Unzipping {zipped_data_file}..\")\n",
    "        shutil.unpack_archive(zipped_data_file, datapath_unzipped)\n",
    "        print(\"\")\n",
    "    else:\n",
    "        print(f\"Unzipped file already exists: {unzipped_datafile}\")\n",
    "        \n",
    "    with rasterio.open(unzipped_datafile) as tif:\n",
    "        img = tif.read(1)\n",
    "        img[img<=tif.nodata] = np.nan\n",
    "\n",
    "    fig, ax = plt.subplots(figsize=(8,16))\n",
    "    plt.imshow(img, cmap = 'viridis')\n",
    "    plt.colorbar()    \n",
    "    \n",
    "    if not unzipped_datafile_png.exists():\n",
    "        fig.savefig(unzipped_datafile_png, dpi=300)\n",
    "    else:\n",
    "        print(f\"Png file already exists: {unzipped_datafile_png}\")\n",
    "    \n",
    "    if freemem:\n",
    "        fig.clear()\n",
    "        plt.close(fig)\n"
   ]
  },
  {
   "cell_type": "markdown",
   "id": "0db6a0a8",
   "metadata": {},
   "source": [
    "<b>When a cell tells matplotlib to draw an inline figure, when the cell is executed and the image is drawn, some memory is not released..unless calling clear and close..</b>"
   ]
  },
  {
   "cell_type": "code",
   "execution_count": null,
   "id": "a7e5edab",
   "metadata": {
    "scrolled": true
   },
   "outputs": [],
   "source": [
    "display_image(zipped_data_files[0], datapath_unzipped)"
   ]
  },
  {
   "cell_type": "code",
   "execution_count": null,
   "id": "5d53037b",
   "metadata": {},
   "outputs": [],
   "source": [
    "# To save all png \n",
    "for zdf in zipped_data_files:\n",
    "    display_image(zdf, datapath_unzipped, freemem=True)"
   ]
  }
 ],
 "metadata": {
  "kernelspec": {
   "display_name": "Python 3 (ipykernel)",
   "language": "python",
   "name": "python3"
  },
  "language_info": {
   "codemirror_mode": {
    "name": "ipython",
    "version": 3
   },
   "file_extension": ".py",
   "mimetype": "text/x-python",
   "name": "python",
   "nbconvert_exporter": "python",
   "pygments_lexer": "ipython3",
   "version": "3.8.10"
  }
 },
 "nbformat": 4,
 "nbformat_minor": 5
}
