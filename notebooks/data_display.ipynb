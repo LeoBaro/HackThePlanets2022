{
 "cells": [
  {
   "cell_type": "code",
   "execution_count": 2,
   "id": "d731af27",
   "metadata": {},
   "outputs": [],
   "source": [
    "import pickle\n",
    "import shutil\n",
    "import rasterio\n",
    "import geopandas\n",
    "import numpy as np\n",
    "from os import listdir\n",
    "from pathlib import Path\n",
    "import matplotlib.pyplot as plt\n",
    "from shapely.geometry import shape\n",
    "\n",
    "#%matplotlib notebook\n",
    "%matplotlib inline"
   ]
  },
  {
   "cell_type": "markdown",
   "id": "08cc1dec",
   "metadata": {},
   "source": [
    "# Visualize the geometry"
   ]
  },
  {
   "cell_type": "code",
   "execution_count": null,
   "id": "72d01ba3",
   "metadata": {},
   "outputs": [],
   "source": [
    "with open(\"files_metadata.pickle\", \"rb\") as metadata_file:\n",
    "    products_metadata = pickle.load(metadata_file)        "
   ]
  },
  {
   "cell_type": "code",
   "execution_count": null,
   "id": "4a8c0b7c",
   "metadata": {},
   "outputs": [],
   "source": [
    "_gd = {'productId':[], 'geometry':[]}\n",
    "for p in products_metadata[0:1]:\n",
    "    _gd['productId'].append(p['productId'])\n",
    "    _gd['geometry'].append(shape(p['geometry']['geometries'][0]))\n",
    "    \n",
    "_gd"
   ]
  },
  {
   "cell_type": "code",
   "execution_count": null,
   "id": "0bfafbd4",
   "metadata": {},
   "outputs": [],
   "source": [
    "gdf = geopandas.GeoDataFrame(_gd)\n",
    "\n",
    "gdf.plot(alpha=0.25, edgecolor='red', legend=True, column='productId', \n",
    "         legend_kwds={'loc': 'upper left', 'bbox_to_anchor': (1, 1)}, \n",
    "         figsize=(24,16));"
   ]
  },
  {
   "cell_type": "markdown",
   "id": "8d1d06ae",
   "metadata": {},
   "source": [
    "## Visualize the images "
   ]
  },
  {
   "cell_type": "code",
   "execution_count": null,
   "id": "b95d4e07",
   "metadata": {},
   "outputs": [],
   "source": [
    "datapath = Path(\"/shared_volume/tif_zip\")\n",
    "datapath_unzipped = Path(\"/shared_volume/tif_test\")\n",
    "datapath_png = Path(\"/shared_volume/png\")"
   ]
  },
  {
   "cell_type": "markdown",
   "id": "5e609fca",
   "metadata": {},
   "source": [
    "Loading the files"
   ]
  },
  {
   "cell_type": "code",
   "execution_count": null,
   "id": "06897968",
   "metadata": {},
   "outputs": [],
   "source": [
    "zipped_data_files = [datapath.joinpath(f) for f in listdir(datapath) if datapath.joinpath(f).exists() and \".tif.zip\" in f]\n",
    "zipped_data_files[0:5]"
   ]
  },
  {
   "cell_type": "code",
   "execution_count": null,
   "id": "9fde1119",
   "metadata": {},
   "outputs": [],
   "source": [
    "def display_image(zipped_data_file, datapath_unzipped, freemem=False):  \n",
    "    \n",
    "    unzipped_datafile = datapath_unzipped.joinpath(zipped_data_file.stem)\n",
    "    unzipped_datafile_png = datapath_png.joinpath(zipped_data_file.stem).with_suffix(\".png\")\n",
    "    \n",
    "    if not unzipped_datafile.exists():\n",
    "        print(f\"Unzipping {zipped_data_file}..\")\n",
    "        shutil.unpack_archive(zipped_data_file, datapath_unzipped)\n",
    "        print(\"\")\n",
    "    else:\n",
    "        print(f\"Unzipped file already exists: {unzipped_datafile}\")\n",
    "        \n",
    "    with rasterio.open(unzipped_datafile) as tif:\n",
    "        img = tif.read(1)\n",
    "        img[img<=tif.nodata] = np.nan\n",
    "\n",
    "    fig, ax = plt.subplots(figsize=(8,16))\n",
    "    plt.imshow(img, cmap = 'viridis')\n",
    "    plt.colorbar()    \n",
    "    \n",
    "    if not unzipped_datafile_png.exists():\n",
    "        fig.savefig(unzipped_datafile_png, dpi=300)\n",
    "    else:\n",
    "        print(f\"Png file already exists: {unzipped_datafile_png}\")\n",
    "    \n",
    "    if freemem:\n",
    "        fig.clear()\n",
    "        plt.close(fig)\n"
   ]
  },
  {
   "cell_type": "markdown",
   "id": "0db6a0a8",
   "metadata": {},
   "source": [
    "<b>When a cell tells matplotlib to draw an inline figure, when the cell is executed and the image is drawn, some memory is not released..unless calling clear and close..</b>"
   ]
  },
  {
   "cell_type": "code",
   "execution_count": null,
   "id": "9bae1048",
   "metadata": {},
   "outputs": [],
   "source": [
    "%matplotlib notebook"
   ]
  },
  {
   "cell_type": "code",
   "execution_count": null,
   "id": "a7e5edab",
   "metadata": {
    "scrolled": false
   },
   "outputs": [],
   "source": [
    "display_image(zipped_data_files[0], datapath_unzipped)"
   ]
  },
  {
   "cell_type": "code",
   "execution_count": null,
   "id": "5d53037b",
   "metadata": {},
   "outputs": [],
   "source": [
    "# To save all png \n",
    "for zdf in zipped_data_files:\n",
    "    display_image(zdf, datapath_unzipped, freemem=True)"
   ]
  },
  {
   "cell_type": "markdown",
   "id": "569c0bd1",
   "metadata": {},
   "source": [
    "## Display the 'craters' dataset"
   ]
  },
  {
   "cell_type": "code",
   "execution_count": 3,
   "id": "d7408b38",
   "metadata": {},
   "outputs": [],
   "source": [
    "datapath = Path(\"/shared_volume/tif_craters\")"
   ]
  },
  {
   "cell_type": "code",
   "execution_count": 4,
   "id": "3364a147",
   "metadata": {},
   "outputs": [],
   "source": [
    "tifs = [f for f in datapath.glob('*.*')]"
   ]
  },
  {
   "cell_type": "code",
   "execution_count": 5,
   "id": "c480eeab",
   "metadata": {},
   "outputs": [],
   "source": [
    "def linear_stretch(img, a, b):\n",
    "    c = img.nanmin()\n",
    "    d = img.nanmax()\n",
    "    print(c,d)\n",
    "    return (img-c) * ((b-a)/(d-c)) + a"
   ]
  },
  {
   "cell_type": "code",
   "execution_count": 6,
   "id": "e7e1ff1c",
   "metadata": {},
   "outputs": [],
   "source": [
    "%matplotlib notebook\n",
    "def display(f):\n",
    "    with rasterio.open(f) as tif:\n",
    "        img = tif.read(1)\n",
    "        img[img<=tif.nodata] = np.nan\n",
    "\n",
    "    img = linear_stretch(img, 0, 255)\n",
    "        \n",
    "    fig, ax = plt.subplots(figsize=(8,16))\n",
    "    plt.imshow(img, cmap = 'viridis')\n",
    "    plt.colorbar()    \n",
    "    return fig"
   ]
  },
  {
   "cell_type": "code",
   "execution_count": 7,
   "id": "3e94184f",
   "metadata": {},
   "outputs": [
    {
     "ename": "AttributeError",
     "evalue": "'numpy.ndarray' object has no attribute 'nanmin'",
     "output_type": "error",
     "traceback": [
      "\u001b[0;31m---------------------------------------------------------------------------\u001b[0m",
      "\u001b[0;31mAttributeError\u001b[0m                            Traceback (most recent call last)",
      "Input \u001b[0;32mIn [7]\u001b[0m, in \u001b[0;36m<cell line: 1>\u001b[0;34m()\u001b[0m\n\u001b[0;32m----> 1\u001b[0m fig \u001b[38;5;241m=\u001b[39m \u001b[43mdisplay\u001b[49m\u001b[43m(\u001b[49m\u001b[43mtifs\u001b[49m\u001b[43m[\u001b[49m\u001b[38;5;241;43m0\u001b[39;49m\u001b[43m]\u001b[49m\u001b[43m)\u001b[49m\n",
      "Input \u001b[0;32mIn [6]\u001b[0m, in \u001b[0;36mdisplay\u001b[0;34m(f)\u001b[0m\n\u001b[1;32m      4\u001b[0m     img \u001b[38;5;241m=\u001b[39m tif\u001b[38;5;241m.\u001b[39mread(\u001b[38;5;241m1\u001b[39m)\n\u001b[1;32m      5\u001b[0m     img[img\u001b[38;5;241m<\u001b[39m\u001b[38;5;241m=\u001b[39mtif\u001b[38;5;241m.\u001b[39mnodata] \u001b[38;5;241m=\u001b[39m np\u001b[38;5;241m.\u001b[39mnan\n\u001b[0;32m----> 7\u001b[0m img \u001b[38;5;241m=\u001b[39m \u001b[43mlinear_stretch\u001b[49m\u001b[43m(\u001b[49m\u001b[43mimg\u001b[49m\u001b[43m,\u001b[49m\u001b[43m \u001b[49m\u001b[38;5;241;43m0\u001b[39;49m\u001b[43m,\u001b[49m\u001b[43m \u001b[49m\u001b[38;5;241;43m255\u001b[39;49m\u001b[43m)\u001b[49m\n\u001b[1;32m      9\u001b[0m fig, ax \u001b[38;5;241m=\u001b[39m plt\u001b[38;5;241m.\u001b[39msubplots(figsize\u001b[38;5;241m=\u001b[39m(\u001b[38;5;241m8\u001b[39m,\u001b[38;5;241m16\u001b[39m))\n\u001b[1;32m     10\u001b[0m plt\u001b[38;5;241m.\u001b[39mimshow(img, cmap \u001b[38;5;241m=\u001b[39m \u001b[38;5;124m'\u001b[39m\u001b[38;5;124mviridis\u001b[39m\u001b[38;5;124m'\u001b[39m)\n",
      "Input \u001b[0;32mIn [5]\u001b[0m, in \u001b[0;36mlinear_stretch\u001b[0;34m(img, a, b)\u001b[0m\n\u001b[1;32m      1\u001b[0m \u001b[38;5;28;01mdef\u001b[39;00m \u001b[38;5;21mlinear_stretch\u001b[39m(img, a, b):\n\u001b[0;32m----> 2\u001b[0m     c \u001b[38;5;241m=\u001b[39m \u001b[43mimg\u001b[49m\u001b[38;5;241;43m.\u001b[39;49m\u001b[43mnanmin\u001b[49m()\n\u001b[1;32m      3\u001b[0m     d \u001b[38;5;241m=\u001b[39m img\u001b[38;5;241m.\u001b[39mnanmax()\n\u001b[1;32m      4\u001b[0m     \u001b[38;5;28mprint\u001b[39m(c,d)\n",
      "\u001b[0;31mAttributeError\u001b[0m: 'numpy.ndarray' object has no attribute 'nanmin'"
     ]
    }
   ],
   "source": [
    "fig = display(tifs[0])"
   ]
  },
  {
   "cell_type": "code",
   "execution_count": null,
   "id": "a400970d",
   "metadata": {},
   "outputs": [],
   "source": [
    "fig.clear()\n",
    "plt.close(fig)"
   ]
  },
  {
   "cell_type": "code",
   "execution_count": null,
   "id": "fa10f56f",
   "metadata": {},
   "outputs": [],
   "source": [
    "fig = display(tifs[1])"
   ]
  },
  {
   "cell_type": "code",
   "execution_count": null,
   "id": "595ed48a",
   "metadata": {},
   "outputs": [],
   "source": [
    "fig.clear()\n",
    "plt.close(fig)"
   ]
  },
  {
   "cell_type": "code",
   "execution_count": null,
   "id": "248900a4",
   "metadata": {},
   "outputs": [],
   "source": [
    "fig = display(tifs[2])"
   ]
  },
  {
   "cell_type": "code",
   "execution_count": null,
   "id": "9f4ded97",
   "metadata": {},
   "outputs": [],
   "source": [
    "fig.clear()\n",
    "plt.close(fig)"
   ]
  },
  {
   "cell_type": "code",
   "execution_count": null,
   "id": "d783201d",
   "metadata": {},
   "outputs": [],
   "source": [
    "fig = display(tifs[3])"
   ]
  },
  {
   "cell_type": "code",
   "execution_count": null,
   "id": "0f16426a",
   "metadata": {},
   "outputs": [],
   "source": [
    "fig.clear()\n",
    "plt.close(fig)"
   ]
  },
  {
   "cell_type": "code",
   "execution_count": null,
   "id": "c9884e3e",
   "metadata": {},
   "outputs": [],
   "source": [
    "fig = display(tifs[4])"
   ]
  },
  {
   "cell_type": "code",
   "execution_count": null,
   "id": "109fc5f1",
   "metadata": {},
   "outputs": [],
   "source": [
    "fig.clear()\n",
    "plt.close(fig)"
   ]
  },
  {
   "cell_type": "code",
   "execution_count": null,
   "id": "a24c07c6",
   "metadata": {},
   "outputs": [],
   "source": [
    "fig = display(tifs[5])"
   ]
  },
  {
   "cell_type": "code",
   "execution_count": null,
   "id": "5c93d10d",
   "metadata": {},
   "outputs": [],
   "source": [
    "fig.clear()\n",
    "plt.close(fig)"
   ]
  }
 ],
 "metadata": {
  "kernelspec": {
   "display_name": "Python 3 (ipykernel)",
   "language": "python",
   "name": "python3"
  },
  "language_info": {
   "codemirror_mode": {
    "name": "ipython",
    "version": 3
   },
   "file_extension": ".py",
   "mimetype": "text/x-python",
   "name": "python",
   "nbconvert_exporter": "python",
   "pygments_lexer": "ipython3",
   "version": "3.8.10"
  }
 },
 "nbformat": 4,
 "nbformat_minor": 5
}
